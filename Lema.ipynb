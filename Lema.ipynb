{
 "cells": [
  {
   "cell_type": "code",
   "execution_count": 1,
   "metadata": {},
   "outputs": [],
   "source": [
    "import tensorflow as tf\n",
    "import pandas as pd\n",
    "gpu = tf.config.experimental.list_physical_devices('GPU')\n",
    "tf.config.experimental.set_memory_growth(gpu[0], True)\n"
   ]
  },
  {
   "cell_type": "code",
   "execution_count": 2,
   "metadata": {},
   "outputs": [
    {
     "data": {
      "text/html": [
       "<div>\n",
       "<style scoped>\n",
       "    .dataframe tbody tr th:only-of-type {\n",
       "        vertical-align: middle;\n",
       "    }\n",
       "\n",
       "    .dataframe tbody tr th {\n",
       "        vertical-align: top;\n",
       "    }\n",
       "\n",
       "    .dataframe thead th {\n",
       "        text-align: right;\n",
       "    }\n",
       "</style>\n",
       "<table border=\"1\" class=\"dataframe\">\n",
       "  <thead>\n",
       "    <tr style=\"text-align: right;\">\n",
       "      <th></th>\n",
       "      <th>text</th>\n",
       "      <th>target</th>\n",
       "      <th>text_clean</th>\n",
       "    </tr>\n",
       "  </thead>\n",
       "  <tbody>\n",
       "    <tr>\n",
       "      <th>0</th>\n",
       "      <td>Our Deeds are the Reason of this #earthquake M...</td>\n",
       "      <td>1</td>\n",
       "      <td>deed reason hastag earthquake allah forgive</td>\n",
       "    </tr>\n",
       "    <tr>\n",
       "      <th>1</th>\n",
       "      <td>Forest fire near La Ronge Sask. Canada</td>\n",
       "      <td>1</td>\n",
       "      <td>forest fire near la ronge sask canada</td>\n",
       "    </tr>\n",
       "    <tr>\n",
       "      <th>2</th>\n",
       "      <td>All residents asked to 'shelter in place' are ...</td>\n",
       "      <td>1</td>\n",
       "      <td>resident ask shelter place notify officer evac...</td>\n",
       "    </tr>\n",
       "    <tr>\n",
       "      <th>3</th>\n",
       "      <td>13,000 people receive #wildfires evacuation or...</td>\n",
       "      <td>1</td>\n",
       "      <td>13000 people receive hastag wildfire evacuatio...</td>\n",
       "    </tr>\n",
       "    <tr>\n",
       "      <th>4</th>\n",
       "      <td>Just got sent this photo from Ruby #Alaska as ...</td>\n",
       "      <td>1</td>\n",
       "      <td>send photo ruby hastag alaska smoke hastag wil...</td>\n",
       "    </tr>\n",
       "  </tbody>\n",
       "</table>\n",
       "</div>"
      ],
      "text/plain": [
       "                                                text  target  \\\n",
       "0  Our Deeds are the Reason of this #earthquake M...       1   \n",
       "1             Forest fire near La Ronge Sask. Canada       1   \n",
       "2  All residents asked to 'shelter in place' are ...       1   \n",
       "3  13,000 people receive #wildfires evacuation or...       1   \n",
       "4  Just got sent this photo from Ruby #Alaska as ...       1   \n",
       "\n",
       "                                          text_clean  \n",
       "0        deed reason hastag earthquake allah forgive  \n",
       "1              forest fire near la ronge sask canada  \n",
       "2  resident ask shelter place notify officer evac...  \n",
       "3  13000 people receive hastag wildfire evacuatio...  \n",
       "4  send photo ruby hastag alaska smoke hastag wil...  "
      ]
     },
     "execution_count": 2,
     "metadata": {},
     "output_type": "execute_result"
    }
   ],
   "source": [
    "df = pd.read_csv('df_train_clean_lemma.csv')\n",
    "df.head()"
   ]
  },
  {
   "cell_type": "code",
   "execution_count": 3,
   "metadata": {},
   "outputs": [
    {
     "name": "stdout",
     "output_type": "stream",
     "text": [
      "<class 'pandas.core.frame.DataFrame'>\n",
      "RangeIndex: 7613 entries, 0 to 7612\n",
      "Data columns (total 3 columns):\n",
      " #   Column      Non-Null Count  Dtype \n",
      "---  ------      --------------  ----- \n",
      " 0   text        7613 non-null   object\n",
      " 1   target      7613 non-null   int64 \n",
      " 2   text_clean  7612 non-null   object\n",
      "dtypes: int64(1), object(2)\n",
      "memory usage: 178.6+ KB\n"
     ]
    }
   ],
   "source": [
    "df.info()"
   ]
  },
  {
   "cell_type": "code",
   "execution_count": 4,
   "metadata": {},
   "outputs": [],
   "source": [
    "tokenize = tf.keras.preprocessing.text.Tokenizer()"
   ]
  },
  {
   "cell_type": "code",
   "execution_count": 5,
   "metadata": {},
   "outputs": [],
   "source": [
    "df.text_clean = df.text_clean.astype(str)"
   ]
  },
  {
   "cell_type": "code",
   "execution_count": 6,
   "metadata": {},
   "outputs": [
    {
     "data": {
      "text/html": [
       "<div>\n",
       "<style scoped>\n",
       "    .dataframe tbody tr th:only-of-type {\n",
       "        vertical-align: middle;\n",
       "    }\n",
       "\n",
       "    .dataframe tbody tr th {\n",
       "        vertical-align: top;\n",
       "    }\n",
       "\n",
       "    .dataframe thead th {\n",
       "        text-align: right;\n",
       "    }\n",
       "</style>\n",
       "<table border=\"1\" class=\"dataframe\">\n",
       "  <thead>\n",
       "    <tr style=\"text-align: right;\">\n",
       "      <th></th>\n",
       "      <th>text</th>\n",
       "      <th>target</th>\n",
       "      <th>text_clean</th>\n",
       "      <th>text_tokenize</th>\n",
       "    </tr>\n",
       "  </thead>\n",
       "  <tbody>\n",
       "    <tr>\n",
       "      <th>0</th>\n",
       "      <td>Our Deeds are the Reason of this #earthquake M...</td>\n",
       "      <td>1</td>\n",
       "      <td>deed reason hastag earthquake allah forgive</td>\n",
       "      <td>[3675, 422, 1, 168, 1251, 1952]</td>\n",
       "    </tr>\n",
       "    <tr>\n",
       "      <th>1</th>\n",
       "      <td>Forest fire near La Ronge Sask. Canada</td>\n",
       "      <td>1</td>\n",
       "      <td>forest fire near la ronge sask canada</td>\n",
       "      <td>[114, 3, 157, 503, 5525, 5526, 950]</td>\n",
       "    </tr>\n",
       "    <tr>\n",
       "      <th>2</th>\n",
       "      <td>All residents asked to 'shelter in place' are ...</td>\n",
       "      <td>1</td>\n",
       "      <td>resident ask shelter place notify officer evac...</td>\n",
       "      <td>[1369, 443, 1706, 316, 5527, 286, 180, 1706, 3...</td>\n",
       "    </tr>\n",
       "    <tr>\n",
       "      <th>3</th>\n",
       "      <td>13,000 people receive #wildfires evacuation or...</td>\n",
       "      <td>1</td>\n",
       "      <td>13000 people receive hastag wildfire evacuatio...</td>\n",
       "      <td>[2307, 5, 2308, 1, 68, 180, 287, 33]</td>\n",
       "    </tr>\n",
       "    <tr>\n",
       "      <th>4</th>\n",
       "      <td>Just got sent this photo from Ruby #Alaska as ...</td>\n",
       "      <td>1</td>\n",
       "      <td>send photo ruby hastag alaska smoke hastag wil...</td>\n",
       "      <td>[174, 120, 5528, 1, 1707, 165, 1, 68, 2309, 105]</td>\n",
       "    </tr>\n",
       "  </tbody>\n",
       "</table>\n",
       "</div>"
      ],
      "text/plain": [
       "                                                text  target  \\\n",
       "0  Our Deeds are the Reason of this #earthquake M...       1   \n",
       "1             Forest fire near La Ronge Sask. Canada       1   \n",
       "2  All residents asked to 'shelter in place' are ...       1   \n",
       "3  13,000 people receive #wildfires evacuation or...       1   \n",
       "4  Just got sent this photo from Ruby #Alaska as ...       1   \n",
       "\n",
       "                                          text_clean  \\\n",
       "0        deed reason hastag earthquake allah forgive   \n",
       "1              forest fire near la ronge sask canada   \n",
       "2  resident ask shelter place notify officer evac...   \n",
       "3  13000 people receive hastag wildfire evacuatio...   \n",
       "4  send photo ruby hastag alaska smoke hastag wil...   \n",
       "\n",
       "                                       text_tokenize  \n",
       "0                    [3675, 422, 1, 168, 1251, 1952]  \n",
       "1                [114, 3, 157, 503, 5525, 5526, 950]  \n",
       "2  [1369, 443, 1706, 316, 5527, 286, 180, 1706, 3...  \n",
       "3               [2307, 5, 2308, 1, 68, 180, 287, 33]  \n",
       "4   [174, 120, 5528, 1, 1707, 165, 1, 68, 2309, 105]  "
      ]
     },
     "execution_count": 6,
     "metadata": {},
     "output_type": "execute_result"
    }
   ],
   "source": [
    "tokenize.fit_on_texts(df.text_clean)\n",
    "df['text_tokenize'] = tokenize.texts_to_sequences(df.text_clean)\n",
    "df.head()"
   ]
  },
  {
   "cell_type": "code",
   "execution_count": 7,
   "metadata": {},
   "outputs": [],
   "source": [
    "padded = tf.keras.preprocessing.sequence.pad_sequences(df.text_tokenize, padding=\"post\")"
   ]
  },
  {
   "cell_type": "code",
   "execution_count": 8,
   "metadata": {},
   "outputs": [],
   "source": [
    "tensor_df = tf.data.Dataset.from_tensor_slices((padded, df.target.values))"
   ]
  },
  {
   "cell_type": "code",
   "execution_count": 9,
   "metadata": {},
   "outputs": [],
   "source": [
    "TAKE_SIZE = int(0.7*df.shape[0])\n",
    "BATCH_SIZE = 16\n",
    "\n",
    "train_data = tensor_df.take(TAKE_SIZE).shuffle(TAKE_SIZE)\n",
    "train_data = train_data.batch(BATCH_SIZE)\n",
    "\n",
    "test_data = tensor_df.skip(TAKE_SIZE).shuffle(df.shape[0]-TAKE_SIZE)\n",
    "test_data = test_data.batch(BATCH_SIZE)"
   ]
  },
  {
   "cell_type": "code",
   "execution_count": 10,
   "metadata": {},
   "outputs": [
    {
     "name": "stdout",
     "output_type": "stream",
     "text": [
      "tf.Tensor(\n",
      "[[   66     2  8501  8502     0     0     0     0     0     0     0     0\n",
      "      0     0     0     0     0     0     0     0     0     0     0     0\n",
      "      0     0     0     0]\n",
      " [  468     5   494  6525    26  6526   470    75  6527  3971  6528     0\n",
      "      0     0     0     0     0     0     0     0     0     0     0     0\n",
      "      0     0     0     0]\n",
      " [    1   113   778   419   478   174   568   196    89   115   594   147\n",
      "      1   420     1    16     0     0     0     0     0     0     0     0\n",
      "      0     0     0     0]\n",
      " [  145   343   110   273    60  6269   849  1770     0     0     0     0\n",
      "      0     0     0     0     0     0     0     0     0     0     0     0\n",
      "      0     0     0     0]\n",
      " [  301   798  1651    46   130  2719     3     0     0     0     0     0\n",
      "      0     0     0     0     0     0     0     0     0     0     0     0\n",
      "      0     0     0     0]\n",
      " [ 2130   394   346   164   221  5254  3053   379  5255   379     1 13061\n",
      "      1 13062     0     0     0     0     0     0     0     0     0     0\n",
      "      0     0     0     0]\n",
      " [    1 11111     1   376   465  2266  1002 11112 11113  1421  2993  1002\n",
      "   2694    34   769 11114     0     0     0     0     0     0     0     0\n",
      "      0     0     0     0]\n",
      " [  340    56  2652     0     0     0     0     0     0     0     0     0\n",
      "      0     0     0     0     0     0     0     0     0     0     0     0\n",
      "      0     0     0     0]\n",
      " [ 3030  2074   245  1113  1286   268  6725  4005  6726    62   118  3031\n",
      "   2465     0     0     0     0     0     0     0     0     0     0     0\n",
      "      0     0     0     0]\n",
      " [ 7038  3066    14   236     0     0     0     0     0     0     0     0\n",
      "      0     0     0     0     0     0     0     0     0     0     0     0\n",
      "      0     0     0     0]\n",
      " [ 1649    53    11    89   296   504  8458  1726   162    54  8459     0\n",
      "      0     0     0     0     0     0     0     0     0     0     0     0\n",
      "      0     0     0     0]\n",
      " [ 3124   628   113   551     8     0     0     0     0     0     0     0\n",
      "      0     0     0     0     0     0     0     0     0     0     0     0\n",
      "      0     0     0     0]\n",
      " [ 5678   163  5679   184     2     1     1  5680     1  5681     0     0\n",
      "      0     0     0     0     0     0     0     0     0     0     0     0\n",
      "      0     0     0     0]\n",
      " [   61    59   213   298  1141   765     0     0     0     0     0     0\n",
      "      0     0     0     0     0     0     0     0     0     0     0     0\n",
      "      0     0     0     0]\n",
      " [  519    29  1246  1684  1685  1686   881   224    41   231   449  1408\n",
      "    944  1500   777   479     0     0     0     0     0     0     0     0\n",
      "      0     0     0     0]\n",
      " [   34  2431   284    32    28    88  9868  1157  9869     0     0     0\n",
      "      0     0     0     0     0     0     0     0     0     0     0     0\n",
      "      0     0     0     0]], shape=(16, 28), dtype=int32)\n",
      "tf.Tensor([0 0 1 0 1 1 0 0 0 0 0 1 0 1 0 0], shape=(16,), dtype=int64)\n"
     ]
    }
   ],
   "source": [
    "for train, target in train_data.take(1):\n",
    "    print(train)\n",
    "    print(target)"
   ]
  },
  {
   "cell_type": "code",
   "execution_count": null,
   "metadata": {},
   "outputs": [],
   "source": []
  },
  {
   "cell_type": "code",
   "execution_count": 11,
   "metadata": {},
   "outputs": [
    {
     "data": {
      "text/plain": [
       "15998"
      ]
     },
     "execution_count": 11,
     "metadata": {},
     "output_type": "execute_result"
    }
   ],
   "source": [
    "vocab_size=len(tokenize.word_index)\n",
    "vocab_size"
   ]
  },
  {
   "cell_type": "code",
   "execution_count": 12,
   "metadata": {},
   "outputs": [],
   "source": [
    "model = tf.keras.Sequential([\n",
    "        tf.keras.layers.Embedding(vocab_size+1, 128, input_shape=[train.shape[1]]),\n",
    "        tf.keras.layers.Dropout(0.4),\n",
    "        tf.keras.layers.Conv1D(filters=64, kernel_size=5, activation='relu'),\n",
    "        tf.keras.layers.BatchNormalization(),\n",
    "        tf.keras.layers.Dropout(0.3),\n",
    "        tf.keras.layers.Flatten(),\n",
    "        tf.keras.layers.Dense(64, activation='relu'),\n",
    "        tf.keras.layers.Dropout(0.3),\n",
    "        tf.keras.layers.Dense(32, activation='relu'),\n",
    "        tf.keras.layers.Dropout(0.4),\n",
    "        tf.keras.layers.Dense(16, activation='relu'),\n",
    "        tf.keras.layers.Dropout(0.4),\n",
    "        tf.keras.layers.Dense(2, activation='softmax')\n",
    "])"
   ]
  },
  {
   "cell_type": "code",
   "execution_count": 13,
   "metadata": {},
   "outputs": [
    {
     "name": "stdout",
     "output_type": "stream",
     "text": [
      "Model: \"sequential\"\n",
      "_________________________________________________________________\n",
      "Layer (type)                 Output Shape              Param #   \n",
      "=================================================================\n",
      "embedding (Embedding)        (None, 28, 128)           2047872   \n",
      "_________________________________________________________________\n",
      "dropout (Dropout)            (None, 28, 128)           0         \n",
      "_________________________________________________________________\n",
      "conv1d (Conv1D)              (None, 24, 64)            41024     \n",
      "_________________________________________________________________\n",
      "batch_normalization (BatchNo (None, 24, 64)            256       \n",
      "_________________________________________________________________\n",
      "dropout_1 (Dropout)          (None, 24, 64)            0         \n",
      "_________________________________________________________________\n",
      "flatten (Flatten)            (None, 1536)              0         \n",
      "_________________________________________________________________\n",
      "dense (Dense)                (None, 64)                98368     \n",
      "_________________________________________________________________\n",
      "dropout_2 (Dropout)          (None, 64)                0         \n",
      "_________________________________________________________________\n",
      "dense_1 (Dense)              (None, 32)                2080      \n",
      "_________________________________________________________________\n",
      "dropout_3 (Dropout)          (None, 32)                0         \n",
      "_________________________________________________________________\n",
      "dense_2 (Dense)              (None, 16)                528       \n",
      "_________________________________________________________________\n",
      "dropout_4 (Dropout)          (None, 16)                0         \n",
      "_________________________________________________________________\n",
      "dense_3 (Dense)              (None, 2)                 34        \n",
      "=================================================================\n",
      "Total params: 2,190,162\n",
      "Trainable params: 2,190,034\n",
      "Non-trainable params: 128\n",
      "_________________________________________________________________\n"
     ]
    }
   ],
   "source": [
    "model.summary()"
   ]
  },
  {
   "cell_type": "code",
   "execution_count": 14,
   "metadata": {},
   "outputs": [],
   "source": [
    "initial_learning_rate = 0.0001\n",
    "\n",
    "lr_schedule = tf.keras.optimizers.schedules.ExponentialDecay(\n",
    "    initial_learning_rate,\n",
    "    decay_steps=250,\n",
    "    decay_rate=0.96,\n",
    "    staircase=True)\n",
    "\n",
    "optimizer= tf.keras.optimizers.Adam(\n",
    "    learning_rate =  lr_schedule\n",
    ")"
   ]
  },
  {
   "cell_type": "code",
   "execution_count": 15,
   "metadata": {},
   "outputs": [],
   "source": [
    "model.compile(optimizer=optimizer,\n",
    "              loss=tf.keras.losses.SparseCategoricalCrossentropy(),\n",
    "              metrics=[tf.keras.metrics.SparseCategoricalAccuracy()])"
   ]
  },
  {
   "cell_type": "code",
   "execution_count": 16,
   "metadata": {},
   "outputs": [
    {
     "name": "stdout",
     "output_type": "stream",
     "text": [
      "Epoch 1/40\n",
      "334/334 [==============================] - 13s 16ms/step - loss: 0.8389 - sparse_categorical_accuracy: 0.5282 - val_loss: 0.6933 - val_sparse_categorical_accuracy: 0.4847\n",
      "Epoch 2/40\n",
      "334/334 [==============================] - 5s 14ms/step - loss: 0.7124 - sparse_categorical_accuracy: 0.5483 - val_loss: 0.6881 - val_sparse_categorical_accuracy: 0.5433\n",
      "Epoch 3/40\n",
      "334/334 [==============================] - 5s 14ms/step - loss: 0.7012 - sparse_categorical_accuracy: 0.5515 - val_loss: 0.6870 - val_sparse_categorical_accuracy: 0.5679\n",
      "Epoch 4/40\n",
      "334/334 [==============================] - 5s 14ms/step - loss: 0.6890 - sparse_categorical_accuracy: 0.5626 - val_loss: 0.6859 - val_sparse_categorical_accuracy: 0.5771\n",
      "Epoch 5/40\n",
      "334/334 [==============================] - 5s 15ms/step - loss: 0.6765 - sparse_categorical_accuracy: 0.5632 - val_loss: 0.6823 - val_sparse_categorical_accuracy: 0.5849\n",
      "Epoch 6/40\n",
      "334/334 [==============================] - 5s 14ms/step - loss: 0.6854 - sparse_categorical_accuracy: 0.5720 - val_loss: 0.6806 - val_sparse_categorical_accuracy: 0.5871\n",
      "Epoch 7/40\n",
      "334/334 [==============================] - 5s 14ms/step - loss: 0.6678 - sparse_categorical_accuracy: 0.5867 - val_loss: 0.6799 - val_sparse_categorical_accuracy: 0.5722\n",
      "Epoch 8/40\n",
      "334/334 [==============================] - 4s 13ms/step - loss: 0.6776 - sparse_categorical_accuracy: 0.5633 - val_loss: 0.6772 - val_sparse_categorical_accuracy: 0.5679\n",
      "Epoch 9/40\n",
      "334/334 [==============================] - 4s 13ms/step - loss: 0.6719 - sparse_categorical_accuracy: 0.5757 - val_loss: 0.6747 - val_sparse_categorical_accuracy: 0.5701\n",
      "Epoch 10/40\n",
      "334/334 [==============================] - 4s 13ms/step - loss: 0.6672 - sparse_categorical_accuracy: 0.5920 - val_loss: 0.6751 - val_sparse_categorical_accuracy: 0.5670\n",
      "Epoch 11/40\n",
      "334/334 [==============================] - 5s 14ms/step - loss: 0.6650 - sparse_categorical_accuracy: 0.5932 - val_loss: 0.6743 - val_sparse_categorical_accuracy: 0.5683\n",
      "Epoch 12/40\n",
      "334/334 [==============================] - 4s 13ms/step - loss: 0.6528 - sparse_categorical_accuracy: 0.6091 - val_loss: 0.6732 - val_sparse_categorical_accuracy: 0.5731\n",
      "Epoch 13/40\n",
      "334/334 [==============================] - 4s 13ms/step - loss: 0.6564 - sparse_categorical_accuracy: 0.5912 - val_loss: 0.6708 - val_sparse_categorical_accuracy: 0.5736\n",
      "Epoch 14/40\n",
      "334/334 [==============================] - 4s 13ms/step - loss: 0.6563 - sparse_categorical_accuracy: 0.6005 - val_loss: 0.6703 - val_sparse_categorical_accuracy: 0.5744\n",
      "Epoch 15/40\n",
      "334/334 [==============================] - 5s 14ms/step - loss: 0.6525 - sparse_categorical_accuracy: 0.6097 - val_loss: 0.6693 - val_sparse_categorical_accuracy: 0.5814\n",
      "Epoch 16/40\n",
      "334/334 [==============================] - 5s 14ms/step - loss: 0.6491 - sparse_categorical_accuracy: 0.6114 - val_loss: 0.6681 - val_sparse_categorical_accuracy: 0.5806\n",
      "Epoch 17/40\n",
      "334/334 [==============================] - 5s 14ms/step - loss: 0.6461 - sparse_categorical_accuracy: 0.6131 - val_loss: 0.6653 - val_sparse_categorical_accuracy: 0.6064\n",
      "Epoch 18/40\n",
      "334/334 [==============================] - 5s 14ms/step - loss: 0.6306 - sparse_categorical_accuracy: 0.6286 - val_loss: 0.6619 - val_sparse_categorical_accuracy: 0.6077\n",
      "Epoch 19/40\n",
      "334/334 [==============================] - 5s 14ms/step - loss: 0.6259 - sparse_categorical_accuracy: 0.6445 - val_loss: 0.6590 - val_sparse_categorical_accuracy: 0.6222\n",
      "Epoch 20/40\n",
      "334/334 [==============================] - 5s 14ms/step - loss: 0.6158 - sparse_categorical_accuracy: 0.6586 - val_loss: 0.6542 - val_sparse_categorical_accuracy: 0.6300\n",
      "Epoch 21/40\n",
      "334/334 [==============================] - 5s 14ms/step - loss: 0.5945 - sparse_categorical_accuracy: 0.6803 - val_loss: 0.6478 - val_sparse_categorical_accuracy: 0.6335\n",
      "Epoch 22/40\n",
      "334/334 [==============================] - 5s 14ms/step - loss: 0.5775 - sparse_categorical_accuracy: 0.6957 - val_loss: 0.6419 - val_sparse_categorical_accuracy: 0.6414\n",
      "Epoch 23/40\n",
      "334/334 [==============================] - 5s 14ms/step - loss: 0.5402 - sparse_categorical_accuracy: 0.7336 - val_loss: 0.6383 - val_sparse_categorical_accuracy: 0.6471\n",
      "Epoch 24/40\n",
      "334/334 [==============================] - 5s 13ms/step - loss: 0.5302 - sparse_categorical_accuracy: 0.7319 - val_loss: 0.6295 - val_sparse_categorical_accuracy: 0.6506\n",
      "Epoch 25/40\n",
      "334/334 [==============================] - 4s 13ms/step - loss: 0.5090 - sparse_categorical_accuracy: 0.7479 - val_loss: 0.6243 - val_sparse_categorical_accuracy: 0.6515\n",
      "Epoch 26/40\n",
      "334/334 [==============================] - 5s 14ms/step - loss: 0.4961 - sparse_categorical_accuracy: 0.7686 - val_loss: 0.6248 - val_sparse_categorical_accuracy: 0.6440\n",
      "Epoch 27/40\n",
      "334/334 [==============================] - 5s 14ms/step - loss: 0.4679 - sparse_categorical_accuracy: 0.7883 - val_loss: 0.6193 - val_sparse_categorical_accuracy: 0.6546\n",
      "Epoch 28/40\n",
      "334/334 [==============================] - 5s 15ms/step - loss: 0.4581 - sparse_categorical_accuracy: 0.7998 - val_loss: 0.6191 - val_sparse_categorical_accuracy: 0.6524\n",
      "Epoch 29/40\n",
      "334/334 [==============================] - 5s 14ms/step - loss: 0.4364 - sparse_categorical_accuracy: 0.8092 - val_loss: 0.6111 - val_sparse_categorical_accuracy: 0.6550\n",
      "Epoch 30/40\n",
      "334/334 [==============================] - 5s 14ms/step - loss: 0.4126 - sparse_categorical_accuracy: 0.8176 - val_loss: 0.6081 - val_sparse_categorical_accuracy: 0.6567\n",
      "Epoch 31/40\n",
      "334/334 [==============================] - 5s 14ms/step - loss: 0.4095 - sparse_categorical_accuracy: 0.8141 - val_loss: 0.6162 - val_sparse_categorical_accuracy: 0.6572\n",
      "Epoch 32/40\n",
      "334/334 [==============================] - 5s 14ms/step - loss: 0.4061 - sparse_categorical_accuracy: 0.8309 - val_loss: 0.6127 - val_sparse_categorical_accuracy: 0.6598\n",
      "Epoch 33/40\n",
      "334/334 [==============================] - 5s 14ms/step - loss: 0.3838 - sparse_categorical_accuracy: 0.8359 - val_loss: 0.6137 - val_sparse_categorical_accuracy: 0.6677\n",
      "Epoch 34/40\n",
      "334/334 [==============================] - 5s 14ms/step - loss: 0.3563 - sparse_categorical_accuracy: 0.8443 - val_loss: 0.6142 - val_sparse_categorical_accuracy: 0.6673\n",
      "Epoch 35/40\n",
      "334/334 [==============================] - 5s 14ms/step - loss: 0.3549 - sparse_categorical_accuracy: 0.8510 - val_loss: 0.6131 - val_sparse_categorical_accuracy: 0.6677\n",
      "Epoch 36/40\n",
      "334/334 [==============================] - 5s 14ms/step - loss: 0.3545 - sparse_categorical_accuracy: 0.8583 - val_loss: 0.6146 - val_sparse_categorical_accuracy: 0.6686\n",
      "Epoch 37/40\n",
      "334/334 [==============================] - 5s 14ms/step - loss: 0.3415 - sparse_categorical_accuracy: 0.8535 - val_loss: 0.6136 - val_sparse_categorical_accuracy: 0.6699\n",
      "Epoch 38/40\n",
      "334/334 [==============================] - 5s 14ms/step - loss: 0.3321 - sparse_categorical_accuracy: 0.8654 - val_loss: 0.6152 - val_sparse_categorical_accuracy: 0.6690A: 0s - loss: 0.3321 - sparse_categorical_accuracy: 0.86\n",
      "Epoch 39/40\n",
      "334/334 [==============================] - 5s 14ms/step - loss: 0.3331 - sparse_categorical_accuracy: 0.8712 - val_loss: 0.6148 - val_sparse_categorical_accuracy: 0.6716\n",
      "Epoch 40/40\n",
      "334/334 [==============================] - 5s 15ms/step - loss: 0.3245 - sparse_categorical_accuracy: 0.8759 - val_loss: 0.6175 - val_sparse_categorical_accuracy: 0.6791 - sparse_categorical_accuracy: 0. - ETA: 1s - loss: 0.3290 - \n"
     ]
    }
   ],
   "source": [
    "history = model.fit(train_data, epochs=40, validation_data=test_data)"
   ]
  },
  {
   "cell_type": "code",
   "execution_count": 17,
   "metadata": {},
   "outputs": [],
   "source": [
    "import matplotlib.pyplot as plt"
   ]
  },
  {
   "cell_type": "code",
   "execution_count": 18,
   "metadata": {},
   "outputs": [
    {
     "data": {
      "image/png": "[encoded data removed]",
      "text/plain": [
       "<Figure size 432x288 with 1 Axes>"
      ]
     },
     "metadata": {
      "needs_background": "light"
     },
     "output_type": "display_data"
    },
    {
     "data": {
      "image/png": "[encoded data removed]",
      "text/plain": [
       "<Figure size 432x288 with 1 Axes>"
      ]
     },
     "metadata": {
      "needs_background": "light"
     },
     "output_type": "display_data"
    }
   ],
   "source": [
    "loss_curve = history.history[\"loss\"]\n",
    "loss_val = history.history[\"val_loss\"]\n",
    "acc_curve = history.history[\"sparse_categorical_accuracy\"]\n",
    "acc_val = history.history[\"val_sparse_categorical_accuracy\"]\n",
    "\n",
    "plt.plot(loss_val,label=\"Loss_val\")\n",
    "plt.plot(loss_curve,label=\"Loss_train\")\n",
    "plt.legend()\n",
    "plt.title(\"loss\")\n",
    "plt.show()\n",
    "\n",
    "plt.plot(acc_val, label=\"acc_val\" )\n",
    "plt.plot(acc_curve, label=\"acc_train\" )\n",
    "plt.legend()\n",
    "plt.title(\"sparse_categorical_accuracy\")\n",
    "plt.show()"
   ]
  },
  {
   "cell_type": "code",
   "execution_count": null,
   "metadata": {},
   "outputs": [],
   "source": []
  },
  {
   "cell_type": "code",
   "execution_count": null,
   "metadata": {},
   "outputs": [],
   "source": []
  },
  {
   "cell_type": "code",
   "execution_count": null,
   "metadata": {},
   "outputs": [],
   "source": []
  },
  {
   "cell_type": "code",
   "execution_count": null,
   "metadata": {},
   "outputs": [],
   "source": []
  }
 ],
 "metadata": {
  "kernelspec": {
   "display_name": "Python 3",
   "language": "python",
   "name": "python3"
  },
  "language_info": {
   "codemirror_mode": {
    "name": "ipython",
    "version": 3
   },
   "file_extension": ".py",
   "mimetype": "text/x-python",
   "name": "python",
   "nbconvert_exporter": "python",
   "pygments_lexer": "ipython3",
   "version": "3.8.5"
  }
 },
 "nbformat": 4,
 "nbformat_minor": 4
}
