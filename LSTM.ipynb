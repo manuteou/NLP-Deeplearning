{
 "cells": [
  {
   "cell_type": "code",
   "execution_count": 1,
   "metadata": {},
   "outputs": [],
   "source": [
    "import tensorflow as tf\n",
    "import pandas as pd\n",
    "gpu = tf.config.experimental.list_physical_devices('GPU')\n",
    "tf.config.experimental.set_memory_growth(gpu[0], True)\n",
    "import matplotlib.pyplot as plt"
   ]
  },
  {
   "cell_type": "code",
   "execution_count": 2,
   "metadata": {},
   "outputs": [
    {
     "data": {
      "text/html": [
       "<div>\n",
       "<style scoped>\n",
       "    .dataframe tbody tr th:only-of-type {\n",
       "        vertical-align: middle;\n",
       "    }\n",
       "\n",
       "    .dataframe tbody tr th {\n",
       "        vertical-align: top;\n",
       "    }\n",
       "\n",
       "    .dataframe thead th {\n",
       "        text-align: right;\n",
       "    }\n",
       "</style>\n",
       "<table border=\"1\" class=\"dataframe\">\n",
       "  <thead>\n",
       "    <tr style=\"text-align: right;\">\n",
       "      <th></th>\n",
       "      <th>text</th>\n",
       "      <th>target</th>\n",
       "      <th>text_clean</th>\n",
       "    </tr>\n",
       "  </thead>\n",
       "  <tbody>\n",
       "    <tr>\n",
       "      <th>0</th>\n",
       "      <td>Our Deeds are the Reason of this #earthquake M...</td>\n",
       "      <td>1</td>\n",
       "      <td>our deeds are the reason of this hastag earthq...</td>\n",
       "    </tr>\n",
       "    <tr>\n",
       "      <th>1</th>\n",
       "      <td>Forest fire near La Ronge Sask. Canada</td>\n",
       "      <td>1</td>\n",
       "      <td>forest fire near la ronge sask canada</td>\n",
       "    </tr>\n",
       "    <tr>\n",
       "      <th>2</th>\n",
       "      <td>All residents asked to 'shelter in place' are ...</td>\n",
       "      <td>1</td>\n",
       "      <td>all residents asked to shelter in place are be...</td>\n",
       "    </tr>\n",
       "    <tr>\n",
       "      <th>3</th>\n",
       "      <td>13,000 people receive #wildfires evacuation or...</td>\n",
       "      <td>1</td>\n",
       "      <td>13000 people receive hastag wildfires evacuati...</td>\n",
       "    </tr>\n",
       "    <tr>\n",
       "      <th>4</th>\n",
       "      <td>Just got sent this photo from Ruby #Alaska as ...</td>\n",
       "      <td>1</td>\n",
       "      <td>just got sent this photo from ruby hastag alas...</td>\n",
       "    </tr>\n",
       "  </tbody>\n",
       "</table>\n",
       "</div>"
      ],
      "text/plain": [
       "                                                text  target  \\\n",
       "0  Our Deeds are the Reason of this #earthquake M...       1   \n",
       "1             Forest fire near La Ronge Sask. Canada       1   \n",
       "2  All residents asked to 'shelter in place' are ...       1   \n",
       "3  13,000 people receive #wildfires evacuation or...       1   \n",
       "4  Just got sent this photo from Ruby #Alaska as ...       1   \n",
       "\n",
       "                                          text_clean  \n",
       "0  our deeds are the reason of this hastag earthq...  \n",
       "1              forest fire near la ronge sask canada  \n",
       "2  all residents asked to shelter in place are be...  \n",
       "3  13000 people receive hastag wildfires evacuati...  \n",
       "4  just got sent this photo from ruby hastag alas...  "
      ]
     },
     "execution_count": 2,
     "metadata": {},
     "output_type": "execute_result"
    }
   ],
   "source": [
    "df = pd.read_csv('df_train_clean.csv')\n",
    "df.head()"
   ]
  },
  {
   "cell_type": "code",
   "execution_count": 3,
   "metadata": {},
   "outputs": [],
   "source": [
    "tokenize = tf.keras.preprocessing.text.Tokenizer()"
   ]
  },
  {
   "cell_type": "code",
   "execution_count": 4,
   "metadata": {},
   "outputs": [
    {
     "data": {
      "text/html": [
       "<div>\n",
       "<style scoped>\n",
       "    .dataframe tbody tr th:only-of-type {\n",
       "        vertical-align: middle;\n",
       "    }\n",
       "\n",
       "    .dataframe tbody tr th {\n",
       "        vertical-align: top;\n",
       "    }\n",
       "\n",
       "    .dataframe thead th {\n",
       "        text-align: right;\n",
       "    }\n",
       "</style>\n",
       "<table border=\"1\" class=\"dataframe\">\n",
       "  <thead>\n",
       "    <tr style=\"text-align: right;\">\n",
       "      <th></th>\n",
       "      <th>text</th>\n",
       "      <th>target</th>\n",
       "      <th>text_clean</th>\n",
       "      <th>text_tokenize</th>\n",
       "    </tr>\n",
       "  </thead>\n",
       "  <tbody>\n",
       "    <tr>\n",
       "      <th>0</th>\n",
       "      <td>Our Deeds are the Reason of this #earthquake M...</td>\n",
       "      <td>1</td>\n",
       "      <td>our deeds are the reason of this hastag earthq...</td>\n",
       "      <td>[108, 4472, 21, 2, 864, 6, 19, 1, 239, 125, 15...</td>\n",
       "    </tr>\n",
       "    <tr>\n",
       "      <th>1</th>\n",
       "      <td>Forest fire near La Ronge Sask. Canada</td>\n",
       "      <td>1</td>\n",
       "      <td>forest fire near la ronge sask canada</td>\n",
       "      <td>[177, 42, 216, 674, 6738, 6739, 1343]</td>\n",
       "    </tr>\n",
       "    <tr>\n",
       "      <th>2</th>\n",
       "      <td>All residents asked to 'shelter in place' are ...</td>\n",
       "      <td>1</td>\n",
       "      <td>all residents asked to shelter in place are be...</td>\n",
       "      <td>[39, 1692, 1563, 5, 2082, 4, 647, 21, 120, 674...</td>\n",
       "    </tr>\n",
       "    <tr>\n",
       "      <th>3</th>\n",
       "      <td>13,000 people receive #wildfires evacuation or...</td>\n",
       "      <td>1</td>\n",
       "      <td>13000 people receive hastag wildfires evacuati...</td>\n",
       "      <td>[2808, 55, 4474, 1, 1447, 245, 1344, 4, 85]</td>\n",
       "    </tr>\n",
       "    <tr>\n",
       "      <th>4</th>\n",
       "      <td>Just got sent this photo from Ruby #Alaska as ...</td>\n",
       "      <td>1</td>\n",
       "      <td>just got sent this photo from ruby hastag alas...</td>\n",
       "      <td>[28, 89, 1165, 19, 316, 20, 6741, 1, 2083, 26,...</td>\n",
       "    </tr>\n",
       "  </tbody>\n",
       "</table>\n",
       "</div>"
      ],
      "text/plain": [
       "                                                text  target  \\\n",
       "0  Our Deeds are the Reason of this #earthquake M...       1   \n",
       "1             Forest fire near La Ronge Sask. Canada       1   \n",
       "2  All residents asked to 'shelter in place' are ...       1   \n",
       "3  13,000 people receive #wildfires evacuation or...       1   \n",
       "4  Just got sent this photo from Ruby #Alaska as ...       1   \n",
       "\n",
       "                                          text_clean  \\\n",
       "0  our deeds are the reason of this hastag earthq...   \n",
       "1              forest fire near la ronge sask canada   \n",
       "2  all residents asked to shelter in place are be...   \n",
       "3  13000 people receive hastag wildfires evacuati...   \n",
       "4  just got sent this photo from ruby hastag alas...   \n",
       "\n",
       "                                       text_tokenize  \n",
       "0  [108, 4472, 21, 2, 864, 6, 19, 1, 239, 125, 15...  \n",
       "1              [177, 42, 216, 674, 6738, 6739, 1343]  \n",
       "2  [39, 1692, 1563, 5, 2082, 4, 647, 21, 120, 674...  \n",
       "3        [2808, 55, 4474, 1, 1447, 245, 1344, 4, 85]  \n",
       "4  [28, 89, 1165, 19, 316, 20, 6741, 1, 2083, 26,...  "
      ]
     },
     "execution_count": 4,
     "metadata": {},
     "output_type": "execute_result"
    }
   ],
   "source": [
    "tokenize.fit_on_texts(df.text_clean)\n",
    "df['text_tokenize'] = tokenize.texts_to_sequences(df.text_clean)\n",
    "df.head()"
   ]
  },
  {
   "cell_type": "code",
   "execution_count": 5,
   "metadata": {},
   "outputs": [],
   "source": [
    "padded = tf.keras.preprocessing.sequence.pad_sequences(df.text_tokenize, padding=\"post\")"
   ]
  },
  {
   "cell_type": "code",
   "execution_count": 6,
   "metadata": {},
   "outputs": [],
   "source": [
    "tensor_df = tf.data.Dataset.from_tensor_slices((padded, df.target.values))"
   ]
  },
  {
   "cell_type": "code",
   "execution_count": 7,
   "metadata": {},
   "outputs": [],
   "source": [
    "TAKE_SIZE = int(0.7*df.shape[0])\n",
    "BATCH_SIZE = 16\n",
    "\n",
    "train_data = tensor_df.take(TAKE_SIZE).shuffle(TAKE_SIZE)\n",
    "train_data = train_data.batch(BATCH_SIZE)\n",
    "\n",
    "test_data = tensor_df.skip(TAKE_SIZE).shuffle(df.shape[0]-TAKE_SIZE)\n",
    "test_data = test_data.batch(BATCH_SIZE)"
   ]
  },
  {
   "cell_type": "code",
   "execution_count": 8,
   "metadata": {},
   "outputs": [
    {
     "name": "stdout",
     "output_type": "stream",
     "text": [
      "tf.Tensor(\n",
      "[[15081   130   981    25    15   138    22     3   647     4   903   806\n",
      "     16   211     2   225   303    23     0     0     0     0     0     0\n",
      "      0     0     0     0     0     0     0     0     0     0]\n",
      " [ 1538     2     7  2059  1863   519     0     0     0     0     0     0\n",
      "      0     0     0     0     0     0     0     0     0     0     0     0\n",
      "      0     0     0     0     0     0     0     0     0     0]\n",
      " [   85     1 11971 11972    42     9   648  3804    26  2808    21  1030\n",
      "      5   302     0     0     0     0     0     0     0     0     0     0\n",
      "      0     0     0     0     0     0     0     0     0     0]\n",
      " [ 8331   954     2    82   312  1298     0     0     0     0     0     0\n",
      "      0     0     0     0     0     0     0     0     0     0     0     0\n",
      "      0     0     0     0     0     0     0     0     0     0]\n",
      " [ 5914     1 12028  1972   819    26  3808    42  1793 12029  1795     1\n",
      "   5907     0     0     0     0     0     0     0     0     0     0     0\n",
      "      0     0     0     0     0     0     0     0     0     0]\n",
      " [ 2020   242     9   679  4009    20   948  3198   613   134    48   986\n",
      "    256     0     0     0     0     0     0     0     0     0     0     0\n",
      "      0     0     0     0     0     0     0     0     0     0]\n",
      " [    3  1085 11015  5652    91     6   500     8    58     3  1737    33\n",
      "      3  5653   428    47    15  1405     0     0     0     0     0     0\n",
      "      0     0     0     0     0     0     0     0     0     0]\n",
      " [   48   489  1095  1219   766   897   564  1094   263    82   338   938\n",
      "   2197   119   641     0     0     0     0     0     0     0     0     0\n",
      "      0     0     0     0     0     0     0     0     0     0]\n",
      " [ 2586  3841  4297   125   395  2200   525  6153   134  3340   525  6154\n",
      "   3847  1498  3014 13363     0     0     0     0     0     0     0     0\n",
      "      0     0     0     0     0     0     0     0     0     0]\n",
      " [ 8584  1497    40    59     9   416    83   131    97    53  2553     0\n",
      "      0     0     0     0     0     0     0     0     0     0     0     0\n",
      "      0     0     0     0     0     0     0     0     0     0]\n",
      " [  775   217  1556  2054  2055  2056  1110   991   149   542   707  1750\n",
      "   1160  1859   836   119   641     0     0     0     0     0     0     0\n",
      "      0     0     0     0     0     0     0     0     0     0]\n",
      " [  109    13  2361     0     0     0     0     0     0     0     0     0\n",
      "      0     0     0     0     0     0     0     0     0     0     0     0\n",
      "      0     0     0     0     0     0     0     0     0     0]\n",
      " [  922   605   639    26   244  1672   242     9    20     1   161     0\n",
      "      0     0     0     0     0     0     0     0     0     0     0     0\n",
      "      0     0     0     0     0     0     0     0     0     0]\n",
      " [ 3058  5675    38    22   950  1577 11130     1 11131     0     0     0\n",
      "      0     0     0     0     0     0     0     0     0     0     0     0\n",
      "      0     0     0     0     0     0     0     0     0     0]\n",
      " [ 1101    16  3230 10601   497    81 10602   149    26 10603  4062     0\n",
      "      0     0     0     0     0     0     0     0     0     0     0     0\n",
      "      0     0     0     0     0     0     0     0     0     0]\n",
      " [   48   897   564  1094  1095   489   263    82   338  1219   766  1034\n",
      "   1303   119   641     0     0     0     0     0     0     0     0     0\n",
      "      0     0     0     0     0     0     0     0     0     0]], shape=(16, 34), dtype=int32)\n",
      "tf.Tensor([1 1 1 0 1 1 0 0 0 1 0 0 1 1 1 0], shape=(16,), dtype=int64)\n"
     ]
    }
   ],
   "source": [
    "for train, target in train_data.take(1):\n",
    "    print(train)\n",
    "    print(target)"
   ]
  },
  {
   "cell_type": "code",
   "execution_count": 9,
   "metadata": {},
   "outputs": [
    {
     "data": {
      "text/plain": [
       "18314"
      ]
     },
     "execution_count": 9,
     "metadata": {},
     "output_type": "execute_result"
    }
   ],
   "source": [
    "vocab_size=len(tokenize.word_index)\n",
    "vocab_size"
   ]
  },
  {
   "cell_type": "code",
   "execution_count": 10,
   "metadata": {},
   "outputs": [],
   "source": [
    "model = tf.keras.Sequential([\n",
    "        tf.keras.layers.Embedding(vocab_size+1, 128, input_shape=[train.shape[1]]),\n",
    "        tf.keras.layers.BatchNormalization(),\n",
    "        tf.keras.layers.Conv1D(64, 5, activation='relu'),\n",
    "        tf.keras.layers.Conv1D(32, 3, activation='relu'),\n",
    "        tf.keras.layers.Dropout(0.4),\n",
    "        tf.keras.layers.Bidirectional(tf.keras.layers.LSTM(32, return_sequences=True)),\n",
    "        tf.keras.layers.LSTM(64, return_sequences=True),\n",
    "        tf.keras.layers.LSTM(32, return_sequences=False),\n",
    "        tf.keras.layers.Dense(16, activation='relu'),\n",
    "        tf.keras.layers.Dense(2, activation=\"softmax\")\n",
    "])"
   ]
  },
  {
   "cell_type": "code",
   "execution_count": 11,
   "metadata": {},
   "outputs": [
    {
     "name": "stdout",
     "output_type": "stream",
     "text": [
      "Model: \"sequential\"\n",
      "_________________________________________________________________\n",
      "Layer (type)                 Output Shape              Param #   \n",
      "=================================================================\n",
      "embedding (Embedding)        (None, 34, 128)           2344320   \n",
      "_________________________________________________________________\n",
      "batch_normalization (BatchNo (None, 34, 128)           512       \n",
      "_________________________________________________________________\n",
      "conv1d (Conv1D)              (None, 30, 64)            41024     \n",
      "_________________________________________________________________\n",
      "conv1d_1 (Conv1D)            (None, 28, 32)            6176      \n",
      "_________________________________________________________________\n",
      "dropout (Dropout)            (None, 28, 32)            0         \n",
      "_________________________________________________________________\n",
      "bidirectional (Bidirectional (None, 28, 64)            16640     \n",
      "_________________________________________________________________\n",
      "lstm_1 (LSTM)                (None, 28, 64)            33024     \n",
      "_________________________________________________________________\n",
      "lstm_2 (LSTM)                (None, 32)                12416     \n",
      "_________________________________________________________________\n",
      "dense (Dense)                (None, 16)                528       \n",
      "_________________________________________________________________\n",
      "dense_1 (Dense)              (None, 2)                 34        \n",
      "=================================================================\n",
      "Total params: 2,454,674\n",
      "Trainable params: 2,454,418\n",
      "Non-trainable params: 256\n",
      "_________________________________________________________________\n"
     ]
    }
   ],
   "source": [
    "model.summary()"
   ]
  },
  {
   "cell_type": "code",
   "execution_count": 12,
   "metadata": {},
   "outputs": [],
   "source": [
    "initial_learning_rate = 0.0001\n",
    "\n",
    "lr_schedule = tf.keras.optimizers.schedules.ExponentialDecay(\n",
    "    initial_learning_rate,\n",
    "    decay_steps=250,\n",
    "    decay_rate=0.96,\n",
    "    staircase=True)\n",
    "\n",
    "optimizer= tf.keras.optimizers.Adam(\n",
    "    learning_rate = lr_schedule\n",
    ")"
   ]
  },
  {
   "cell_type": "code",
   "execution_count": 13,
   "metadata": {},
   "outputs": [],
   "source": [
    "model.compile(optimizer=optimizer,\n",
    "              loss=tf.keras.losses.SparseCategoricalCrossentropy(),\n",
    "              metrics=tf.keras.metrics.SparseCategoricalAccuracy())"
   ]
  },
  {
   "cell_type": "code",
   "execution_count": 14,
   "metadata": {},
   "outputs": [
    {
     "name": "stdout",
     "output_type": "stream",
     "text": [
      "Epoch 1/40\n",
      "334/334 [==============================] - 17s 30ms/step - loss: 0.6825 - sparse_categorical_accuracy: 0.5800 - val_loss: 0.6845 - val_sparse_categorical_accuracy: 0.5582.6835 - sparse_categorical_accura - ETA: 5s - loss: 0.6836 - sparse_categorical_accuracy: 0 - ETA: 5s - loss: 0.6835 - sparse_catego - ETA: 3s - loss: 0.6833 - sparse_categorical_ac - ETA: 3s - loss: 0.6831 - sparse_categorical_accura - ETA: 2s - loss: 0.6831 -\n",
      "Epoch 2/40\n",
      "334/334 [==============================] - 8s 25ms/step - loss: 0.6207 - sparse_categorical_accuracy: 0.6511 - val_loss: 0.5371 - val_sparse_categorical_accuracy: 0.7447gorical_accuracy: 0 - ETA: 4s - loss: 0.6487 - sparse_categorical_accuracy: 0.61 - ETA: 4s - loss: 0.6482 - sparse_categor - ETA: 2s - loss: 0.6398 - sparse_categoric - ETA: 1s - loss: 0.6305 - sparse_catego\n",
      "Epoch 3/40\n",
      "334/334 [==============================] - 8s 25ms/step - loss: 0.3755 - sparse_categorical_accuracy: 0.8523 - val_loss: 0.5727 - val_sparse_categorical_accuracy: 0.73473 - sparse_categorical - ETA: 4s - loss: 0.3850 - sparse_categorical_accuracy: 0.84 - ETA: 4s - loss: 0.3845 - sparse_categorical_accur - ETA: 3s - loss: 0.3816 - sparse_categorical_accuracy:  - ETA: 3s - loss: 0.3799 - sparse_categorical_accuracy - ETA: 2s - loss: 0.3785 - s - ETA: 0s - loss: 0.3758 - sparse_categorical_accur\n",
      "Epoch 4/40\n",
      "334/334 [==============================] - 9s 26ms/step - loss: 0.2450 - sparse_categorical_accuracy: 0.9149 - val_loss: 0.6027 - val_sparse_categorical_accuracy: 0.7439\n",
      "Epoch 5/40\n",
      "334/334 [==============================] - 8s 25ms/step - loss: 0.1940 - sparse_categorical_accuracy: 0.9357 - val_loss: 0.6911 - val_sparse_categorical_accuracy: 0.7233303 - sparse_ca - ETA: 3s - loss: 0.2101 - sparse_categorical_accur - ETA: 2s - loss: 0.20 - ETA: 0s - loss: 0.1950 - sparse_categorical_accuracy: 0.935 - ETA: 0s - loss: 0.1949 - sparse_categorical_accuracy: 0.9 - ETA: 0s - loss: 0.1945 - sparse_categorical_accuracy: 0.9\n",
      "Epoch 6/40\n",
      "334/334 [==============================] - 8s 25ms/step - loss: 0.1237 - sparse_categorical_accuracy: 0.9636 - val_loss: 0.7311 - val_sparse_categorical_accuracy: 0.7412 loss: 0.0966 - sparse_categorical_accuracy: 0.97 - ETA: 7s - loss: 0.0969 - sparse_categorical_accuracy: - ETA: 6s - loss: 0.0994 - sparse_categoric - ETA: 5s - loss: 0.1027 - sparse_categorical_accuracy: 0.9 - ETA: 4s - loss: 0.1040 - sparse_categorical_accurac - ETA: 4s - loss: 0.1078 - sparse_cate - ETA: 2s - loss: 0.1147 - sparse_categorical_accuracy: 0.967 - ETA: 2s - loss: 0.1150 - sparse_categorical_accuracy: 0. - ETA: 2s - loss: 0.1162 - sparse_categorical_accurac - ETA: 1s - loss: 0.1186 - sparse_categorical_accuracy:  - ETA: 1s - loss: 0.1203 - sparse_categorical_accuracy:  - ETA: 0s - loss: 0.1216 - sparse_categorical_accuracy: - ETA: 0s - loss: 0.1228 - sparse_categorical_accuracy: 0 - ETA: 0s - loss: 0.1237 - sparse_categorical_accuracy: 0.963\n",
      "Epoch 7/40\n",
      "334/334 [==============================] - 8s 25ms/step - loss: 0.1085 - sparse_categorical_accuracy: 0.9689 - val_loss: 0.7547 - val_sparse_categorical_accuracy: 0.7342 - loss: 0.1083 - sparse_categorical_accuracy:  - ETA: 1s - loss: 0.1081 - sparse_categorical_\n",
      "Epoch 8/40\n",
      "334/334 [==============================] - 9s 26ms/step - loss: 0.0880 - sparse_categorical_accuracy: 0.9755 - val_loss: 0.7787 - val_sparse_categorical_accuracy: 0.7338865 - sparse_categorical_acc\n",
      "Epoch 9/40\n",
      "334/334 [==============================] - 8s 24ms/step - loss: 0.0830 - sparse_categorical_accuracy: 0.9763 - val_loss: 0.7896 - val_sparse_categorical_accuracy: 0.7084: 6s - loss: 0.0762 - sparse_categorical_accuracy: - ETA: 6s - loss: 0.0767 - sparse_categorical_ac - ETA: 5s - loss: 0.0752 - sparse_categorical_accu - ETA: 4s - loss: 0.0752 - sparse_categorical_accurac - ETA: 3s - loss: 0.0758 - sparse_categorical_accuracy: 0. - ETA: 3s - loss: 0.0765 - sparse_catego - ETA: 2s - loss: 0.0802 - sparse_categorical_accuracy - ETA: 1s - loss: 0.0810 - sparse_categorical_accuracy - ETA: 1s - loss: 0.0817 - sparse_categorical_accuracy: 0.976 - ETA: 0s - loss: 0.0818 - sparse_categorical_accuracy: 0.9 - ETA: 0s - loss: 0.0820 - sparse_categorical_accuracy: 0.9 - ETA: 0s - loss: 0.0823 - sparse_categorical_accuracy: 0.976 - ETA: 0s - loss: 0.0824 - sparse_categorical_accuracy: - ETA: 0s - loss: 0.0829 - sparse_categorical_accuracy: 0.97\n",
      "Epoch 10/40\n",
      "334/334 [==============================] - 8s 25ms/step - loss: 0.0836 - sparse_categorical_accuracy: 0.9730 - val_loss: 0.8109 - val_sparse_categorical_accuracy: 0.7058\n",
      "Epoch 11/40\n",
      "334/334 [==============================] - 8s 25ms/step - loss: 0.0681 - sparse_categorical_accuracy: 0.9783 - val_loss: 0.7887 - val_sparse_categorical_accuracy: 0.7277loss: 0.0626 - sparse_categorical_accuracy: 0. - ETA: 5s - lo - ETA: 2s - loss: 0.0663 - sparse_categorical_accuracy: 0.9 - ETA: 1s - loss: 0.0664 - sparse_categorical - ETA: 0s - loss: 0.0674 - sparse_categorical_accuracy: 0.9 - ETA: 0s - loss: 0.0676 - sparse_categorical_accura\n",
      "Epoch 12/40\n",
      "334/334 [==============================] - 8s 24ms/step - loss: 0.0600 - sparse_categorical_accuracy: 0.9801 - val_loss: 0.8780 - val_sparse_categorical_accuracy: 0.7312: 6s - loss: 0.0420 - sparse_categorical_accuracy: 0. - ETA: 6s - loss: 0.0463 - sparse_categorical_accuracy: - ETA: 6s - loss: 0.0507 - sparse_categorical - ETA: 5s - loss: 0.0524 - sparse_categorical_accuracy: - ETA: 4s - loss: 0.0531 - sparse - ETA: 2s - loss: 0.0565 - sparse_categ - ETA: 1s - loss: 0.0588 - sparse_categorical_accu - ETA: 0s - loss: 0.0596 - sparse_categorical_accurac\n",
      "Epoch 13/40\n",
      "334/334 [==============================] - 8s 25ms/step - loss: 0.0553 - sparse_categorical_accuracy: 0.9828 - val_loss: 0.8355 - val_sparse_categorical_accuracy: 0.7237s - loss: 0.0361 - sparse_categorical_accuracy: - ETA: 1s - loss: 0.0530 - sparse_categorical - ETA: 0s - loss: 0.0546 - sparse_categorical_accur\n",
      "Epoch 14/40\n",
      "334/334 [==============================] - 8s 24ms/step - loss: 0.0571 - sparse_categorical_accuracy: 0.9815 - val_loss: 0.8197 - val_sparse_categorical_accuracy: 0.7141- sparse_categorical_a - ETA: 4s - loss: 0.0575  - ETA: 1s - loss: 0.0573 - sparse_categ - ETA: 0s - loss: 0.0570 - sparse_categorical_accuracy: 0.981 - ETA: 0s - loss: 0.0570 - sparse_categorical_accuracy: 0.9 - ETA: 0s - loss: 0.0571 - sparse_categorical_accuracy: 0.\n",
      "Epoch 15/40\n",
      "334/334 [==============================] - 8s 25ms/step - loss: 0.0556 - sparse_categorical_accuracy: 0.9796 - val_loss: 0.8852 - val_sparse_categorical_accuracy: 0.7137arse_categorical_accuracy: - ETA: 0s - loss: 0.0556 - sparse_categorical_accuracy: 0.9\n",
      "Epoch 16/40\n",
      "334/334 [==============================] - 8s 24ms/step - loss: 0.0551 - sparse_categorical_accuracy: 0.9816 - val_loss: 0.8222 - val_sparse_categorical_accuracy: 0.7224A: 6s - loss: 0.0443 - sparse_categorical_accuracy: 0.9 - ETA: 6s - loss: 0.0461 - sparse_categorical_accuracy: 0. - ETA: 6s - loss: 0.0470 - sparse_categorical_accur - ETA: 5s - loss: 0.0487 - sparse_categorical_accuracy: 0. - ETA: 5s - loss: 0.0487 - sparse_categorical_accu - ETA: 4s - loss: 0.0498 - sparse_categorical_acc - ETA: 4s - loss: 0.0517 - sparse_categorical_accuracy: 0 - ETA: 3s - loss: 0.0524 - sparse_categorical_accuracy:  - ETA: 3s - loss: 0.0531 - sparse_categorical_accuracy: 0 - ETA: 3s - loss: 0.0538 - sparse_categorical_acc - ETA: 2s - loss: 0.0545 - sparse_categorical_accuracy: 0.98 - ETA: 2s - loss: 0.0545 - sparse_categorical_ - ETA: 0s - loss: 0.0549 - sparse_categorical_accur - ETA: 0s - loss: 0.0550 - sparse_categorical_accuracy: 0\n",
      "Epoch 17/40\n",
      "334/334 [==============================] - 8s 25ms/step - loss: 0.0515 - sparse_categorical_accuracy: 0.9783 - val_loss: 0.9485 - val_sparse_categorical_accuracy: 0.7180.0539 - sparse_categorical_a - ETA: 2s - loss: 0.0528 - sparse_categorical_accur - ETA: 2s - loss: 0.0523 - sparse_categorical_accuracy: 0. - ETA: 1s - loss: 0.0522 - sparse\n",
      "Epoch 18/40\n",
      "334/334 [==============================] - 8s 25ms/step - loss: 0.0381 - sparse_categorical_accuracy: 0.9831 - val_loss: 0.9195 - val_sparse_categorical_accuracy: 0.7360accu - ETA: 3s - loss: 0.0356 - sparse_categorical - ETA: 2s - loss: 0.0363 - sparse_categorical_accuracy:  - ETA: 1s - loss: 0.0366 - sparse_categorical_accuracy:  - ETA: 1s - loss: 0.0369 - sparse_categorical_ - ETA: 0s - loss: 0.0379 - sparse_categorical_accuracy: 0.\n",
      "Epoch 19/40\n",
      "334/334 [==============================] - 8s 25ms/step - loss: 0.0470 - sparse_categorical_accuracy: 0.9836 - val_loss: 0.9293 - val_sparse_categorical_accuracy: 0.7202 6s - loss: 0.0559 - sparse_categorical_accu - ETA: 5s - loss: 0.0526 - sparse_categorical_accuracy: 0 - ETA: 5s - loss: 0.0521 - sparse_categorical_accuracy: 0.983 - ETA: 5s - loss: 0.0519 - sparse_categorical_accuracy: 0.983 - ETA: 5s - loss: 0. - ETA: 2s - loss: 0.0484 - sparse_categorical_accuracy: 0. - ETA: 2s - loss: 0.0482 - sparse_categorical_accuracy: 0.9 - ETA: 1s - loss: 0.0481 - sparse\n",
      "Epoch 20/40\n",
      "334/334 [==============================] - 8s 25ms/step - loss: 0.0371 - sparse_categorical_accuracy: 0.9837 - val_loss: 0.8709 - val_sparse_categorical_accuracy: 0.7215s - loss: 0.0349 - sparse_categorical_accuracy: 0.983 - ETA: 5s - loss: 0.0349 - sparse_categorical_accura - ETA: 5s - loss: 0.0341 - spars - ETA: 3s - loss: 0.0348  - ETA: 1s - loss: 0.0365 - sparse_categorical_accuracy: 0. - ETA: 0s - loss: 0.0366 - sparse_categorical_accuracy: 0.983 - ETA: 0s - loss: 0.0366 - sparse_categorical_accuracy: - ETA: 0s - loss: 0.0369 - sparse_categorical_accuracy: 0.9 - ETA: 0s - loss: 0.0370 - sparse_categorical_accuracy: 0.983\n",
      "Epoch 21/40\n",
      "334/334 [==============================] - 8s 25ms/step - loss: 0.0380 - sparse_categorical_accuracy: 0.9820 - val_loss: 1.0390 - val_sparse_categorical_accuracy: 0.7285 2s - loss: 0.0391 - sparse_categorical_accuracy: 0 - ETA: 2s - loss: 0.0390 - sparse_categorical_accur - ETA: 1s - loss: 0.0387 - sparse_categorical_accuracy: 0. - ETA: 1s - loss: 0.0386 - sparse_cate\n",
      "Epoch 22/40\n",
      "334/334 [==============================] - 8s 25ms/step - loss: 0.0348 - sparse_categorical_accuracy: 0.9863 - val_loss: 0.9748 - val_sparse_categorical_accuracy: 0.72206s - loss: 0.0318 - sparse_categorical_accuracy: 0.98 - ETA: 6s - loss: 0.0325 - sparse_categorical_accuracy: 0.9 - ETA: 6s - loss: 0.0327 - sparse_categorical_accuracy: 0. - ETA: 6s - loss: 0.0327 - sparse_categorical_accuracy: 0.988 - ETA: 6s - loss: 0.0327 - sparse_categorical_a - ETA: 4s - loss: 0.0327 - sparse_categ - ETA: 3s - loss: 0.0334 - sp - ETA: 1s - loss: 0.0343 - sparse_categorical_accuracy - ETA: 0s - loss: 0.0345 - sparse_categorical_accuracy: - ETA: 0s - loss: 0.0347 - sparse_categorical_accuracy: \n",
      "Epoch 23/40\n",
      "334/334 [==============================] - 8s 25ms/step - loss: 0.0366 - sparse_categorical_accuracy: 0.9823 - val_loss: 0.8728 - val_sparse_categorical_accuracy: 0.7224: 0.0426 - sparse_categorical_accur - ETA: 5s - loss: 0.0378 - sparse_categorical_accuracy:  - ETA: 5s - loss: 0.0373 - sparse_categorical_accuracy: 0.982 - ETA: 5s - loss: 0.0372 - sparse_categorical_acc - ETA: 4s - loss: 0.0371 - sparse_categorical_accurac - ETA: 3s - loss: 0.0371 - - ETA: 1s - loss: 0.0365 - sparse_categorical_accuracy:  - ETA: 0s - loss: 0.0365 - sparse_categorical_a\n",
      "Epoch 24/40\n",
      "334/334 [==============================] - 8s 25ms/step - loss: 0.0342 - sparse_categorical_accuracy: 0.9831 - val_loss: 0.9345 - val_sparse_categorical_accuracy: 0.7058 - spar - ETA: 2s - loss: 0.0335 - sparse_ca - ETA: 1s - loss: 0.0338 - sparse_categorica\n",
      "Epoch 25/40\n",
      "334/334 [==============================] - 8s 25ms/step - loss: 0.0398 - sparse_categorical_accuracy: 0.9807 - val_loss: 1.0492 - val_sparse_categorical_accuracy: 0.7158rical_accuracy:  - ETA: 3s - loss: 0.0409 - sparse_categorical_accuracy: 0.980 - ETA: 3s -  - ETA: 0s - loss: 0.0399 - sparse_categorical_accuracy: \n",
      "Epoch 26/40\n",
      "334/334 [==============================] - 8s 25ms/step - loss: 0.0348 - sparse_categorical_accuracy: 0.9852 - val_loss: 1.0245 - val_sparse_categorical_accuracy: 0.7163s - loss: 0.0323 - sparse_categorical_accuracy: 0.98 - ETA: 6s - loss: 0.0316 - sparse_categorical_accuracy: 0 - ETA: 6 - ETA: 2s - loss: 0.0345 - sparse_categorical_accuracy:  - ETA: 2s - loss: 0.0345 - sparse_categorical_accuracy: 0.98 - ETA: 2s - loss: 0.0345 - sparse_categorical_accuracy: 0.98 - ETA: 2s - loss: 0.0345 - sparse_categorical_accuracy: 0. - ETA: 1s - loss: 0.0344 - sparse_categ - ETA: 0s - loss: 0.0347 - sparse_categorical_accuracy:\n",
      "Epoch 27/40\n",
      "334/334 [==============================] - 8s 25ms/step - loss: 0.0301 - sparse_categorical_accuracy: 0.9866 - val_loss: 0.9953 - val_sparse_categorical_accuracy: 0.7172 - loss: 0.0270 - sparse_categorical_accuracy: 0.988 - ETA: 6s - loss: 0.0267 - sparse_categorical_ac - ETA: 5s - loss: 0.0275 - sparse_categorical_a - ETA: 4s - loss: 0.0281 - sparse_categorica - ETA: 3s - loss: 0.0286 - sparse_categorical_acc - ETA: 2s - loss: 0.0287 - sparse_categorical_accuracy: 0.9 - ETA: 2s - loss: 0.0287 - sparse_categorical_accur - ETA: 1s - loss: 0.0289 - sparse_categorical_accuracy: 0 - ETA: 1s - loss: 0.0291 - sparse_categorical_accuracy: 0.987 - ETA: 1s - loss: 0.0292 - sparse_c - ETA: 0s - loss: 0.0301 - sparse_categorical_accuracy: 0.986\n",
      "Epoch 28/40\n",
      "334/334 [==============================] - 8s 25ms/step - loss: 0.0329 - sparse_categorical_accuracy: 0.9811 - val_loss: 1.1437 - val_sparse_categorical_accuracy: 0.71374 - sparse_categorical_acc - ETA: 3s - loss: 0.0332 - sparse_categorica - ETA: 2s - loss: 0.0330 - sparse_categorical_accuracy: 0. - ETA: 1s - loss: 0.0330 - sparse_categorical_accura - ETA: 1s - loss: 0.0330 - sparse_categorical_accurac - ETA: 0s - loss: 0.0330 - sparse_categorical_accuracy: - ETA: 0s - loss: 0.0330 - sparse_categorical_accuracy: 0.98\n",
      "Epoch 29/40\n",
      "334/334 [==============================] - 8s 25ms/step - loss: 0.0324 - sparse_categorical_accuracy: 0.9870 - val_loss: 0.8881 - val_sparse_categorical_accuracy: 0.7167: 7s - loss: 0.0219 - sparse_categorical_a - ETA: 6s - loss: 0.0259 - sparse_categorical_accuracy: 0.985 - ETA: 6s - loss: 0.0262 - sparse_categorical_accuracy: 0.9 - ETA: 5s - loss: 0.0267 - sparse_categ - ETA: 4s - loss: 0.0271 - sparse_categorical_acc - ETA: 3s - loss: 0.0285 - sparse_categorical_accurac - ETA: 2s - loss: 0.0291 - sparse_categorical_accuracy: 0 - ETA: 2s - loss: 0.0295 - sparse_categorical_accuracy - ETA: 2s - loss: 0.0299 - sparse_categorical_accu - ETA: 1s - loss: 0.0310 - sparse_categorical_a - ETA: 0s - loss: 0.0321 - sparse_categorical_accuracy: 0\n",
      "Epoch 30/40\n",
      "334/334 [==============================] - 8s 25ms/step - loss: 0.0337 - sparse_categorical_accuracy: 0.9844 - val_loss: 1.1218 - val_sparse_categorical_accuracy: 0.7268A: 6s - loss: 0.0422 - sparse_cate - ETA: 5s - loss: 0.0361 - sparse_categorical_ - ETA: 4s - loss: 0.0342 - sparse_categorical_accu - ETA: 3s - loss: 0.0340 - sparse_categorical_accuracy: 0.984 - ETA: 3s - loss: 0.0340 - sparse_categorical_accuracy: 0.98 - ETA: 3s - loss: 0.0340 - sparse_categorical_ac - ETA: 2s - loss: 0.0340 - sparse_categorical_ac - ETA: 1s - loss: 0.0339 - sparse_categorica - ETA: 0s - loss: 0.0337 - sparse_categorical_accuracy: 0.98\n",
      "Epoch 31/40\n",
      "334/334 [==============================] - 8s 25ms/step - loss: 0.0312 - sparse_categorical_accuracy: 0.9848 - val_loss: 1.0735 - val_sparse_categorical_accuracy: 0.7093: 0.0266 - sparse_categorical_accuracy: - ETA: 5s - loss: 0.0274 - sparse_categorical_accuracy:  - ETA: 5s - loss: 0.0280 - sparse_categorical_accuracy - ETA: 4s - loss: 0.0286 - sparse_categorical_accuracy - ETA: 4s - loss: 0.0287 - sparse_categorical_acc - ETA: 3s - loss: 0.0295 - sparse_categorical_accuracy - ETA: 3s - loss: 0.0299 - sparse_categorical_accuracy: 0. - ETA: 2s - loss: 0.0301 - sparse_categorical_accuracy:  - ETA: 2s - loss: 0.0304 - sparse_ - ETA: 0s - loss: 0.0310 - sparse_categorical_accuracy:  - ETA: 0s - loss: 0.0312 - sparse_categorical_accuracy: 0.9\n",
      "Epoch 32/40\n",
      "334/334 [==============================] - 8s 25ms/step - loss: 0.0314 - sparse_categorical_accuracy: 0.9850 - val_loss: 1.0845 - val_sparse_categorical_accuracy: 0.7128: 4s - loss: 0.0312 - spar - ETA: 2s - loss: 0.0313 - sparse_categor - ETA: 0s - loss: 0.0314 - sparse_categorical_accuracy: - ETA: 0s - loss: 0.0314 - sparse_categorical_accuracy: 0.9\n",
      "Epoch 33/40\n",
      "334/334 [==============================] - 8s 25ms/step - loss: 0.0308 - sparse_categorical_accuracy: 0.9849 - val_loss: 1.0951 - val_sparse_categorical_accuracy: 0.7106parse_categorical_accuracy: 0 - ETA: 5s - loss: 0.0290 - sparse_categoric - ETA: 4s - loss: 0.0297 - sparse_categorical_acc - ETA: 3s - loss: 0.0302 - sparse_categorical_accura - ETA: 2s - loss: 0.0304 - spa - ETA: 0s - loss: 0.0308 - sparse_categorical_accuracy: 0.985 - ETA: 0s - loss: 0.0308 - sparse_categorical_accuracy:\n",
      "Epoch 34/40\n",
      "334/334 [==============================] - 8s 25ms/step - loss: 0.0255 - sparse_categorical_accuracy: 0.9885 - val_loss: 1.1034 - val_sparse_categorical_accuracy: 0.7132A: 6s - loss: 0.0215 - sparse_categorical_accuracy: - ETA: 6s - loss: 0.0206 - sparse_categoric - ETA: 5s - loss: 0.0218 - sparse_categorical_accuracy: 0. - ETA: 5s - loss: 0.0217 - sparse - ETA: 3s - loss: 0.0228 - sparse_categorical_accura - ETA: 2s - loss: 0.0237 - sparse_categorical_accuracy - ETA: 2s - loss: 0.0242 - sparse_categorical_accuracy: 0. - ETA: 1s - loss: 0.0244 - sparse_categorical_accuracy: 0.989 - ETA: 1s - loss: 0.0244 - sparse_categorical_accuracy: 0.989 - ETA: 1s - loss: 0.0245 - sparse_categorical_ - ETA: 0s - loss: 0.0251 - sparse_categorical_accura - ETA: 0s - loss: 0.0255 - sparse_categorical_accuracy: 0.988\n",
      "Epoch 35/40\n",
      "334/334 [==============================] - 8s 25ms/step - loss: 0.0298 - sparse_categorical_accuracy: 0.9854 - val_loss: 1.1423 - val_sparse_categorical_accuracy: 0.7080A: 6s - loss: 0.0293 - sparse_categorica - ETA: 4s - loss: 0.0304 - sparse_categorical_accuracy: 0.985 - ETA: 4s - loss: 0.0304 - sparse_categorical_accuracy - ETA: 3s - loss: 0.0303 - sparse_categorica - ETA: 2s - loss: 0.0300 - sparse_categorical_accura - ETA: 2s - loss: 0.0299 - sparse_categorical_a - ETA: 1s - loss: 0.0298 - sparse_categorical_accuracy: 0.9 - ETA: 0s - loss: 0.0299 - sparse_categorical_acc\n",
      "Epoch 36/40\n",
      "334/334 [==============================] - 8s 25ms/step - loss: 0.0289 - sparse_categorical_accuracy: 0.9869 - val_loss: 1.1309 - val_sparse_categorical_accuracy: 0.7123 0.0288 - sparse_categorical_accuracy:  - ETA: 0s - loss: 0.0289 - sparse_categorical_accuracy: 0\n",
      "Epoch 37/40\n",
      "334/334 [==============================] - 8s 25ms/step - loss: 0.0301 - sparse_categorical_accuracy: 0.9836 - val_loss: 1.1347 - val_sparse_categorical_accuracy: 0.7084sparse_categorical_accu - ETA: 4s - loss: 0.0302 - sparse_categorical_accura - ETA: 4s - loss: 0.0299 - sparse_categorical_accurac - ETA: 3s - loss: 0.0297 - sparse_ca - ETA: 1s - loss: 0.0301 - sparse_categori - ETA: 0s - loss: 0.0302 - sparse_categorical_accura\n",
      "Epoch 38/40\n",
      "334/334 [==============================] - 8s 25ms/step - loss: 0.0296 - sparse_categorical_accuracy: 0.9870 - val_loss: 1.1820 - val_sparse_categorical_accuracy: 0.7027 ETA: 0s - loss: 0.0297 - sparse_categorical_accuracy: 0.\n",
      "Epoch 39/40\n",
      "334/334 [==============================] - 8s 25ms/step - loss: 0.0357 - sparse_categorical_accuracy: 0.9805 - val_loss: 1.1638 - val_sparse_categorical_accuracy: 0.7084 - loss: 0.0547 - sparse_categorical_accurac - ETA: 6s - loss: 0.0507 - sparse_categorical_accurac - ETA: 5s - loss: 0.0469 - spars - ETA: 3s - loss: 0.0410 - sparse_categorical_accuracy: - ETA: 3s - loss: 0.0401 - sparse_categorical_accuracy: 0.97 - ETA: 3s - loss: 0.0399 - sparse_categorical_accur - ETA: 2s - loss: 0.0388 - sparse_categorical_ac - ETA: 1s - loss: 0.0374 - sparse_categorical - ETA: 0s - loss: 0.0361 - sparse_categorical_accuracy: \n",
      "Epoch 40/40\n",
      "334/334 [==============================] - 8s 25ms/step - loss: 0.0281 - sparse_categorical_accuracy: 0.9879 - val_loss: 1.1423 - val_sparse_categorical_accuracy: 0.7123 - l - ETA: 2s - loss: 0.0271 - sparse_cate - ETA: 1s - loss: 0.0278 - sparse_categorical_accu - ETA: 0s - loss: 0.0279 - sparse_categorical_accura\n"
     ]
    }
   ],
   "source": [
    "history = model.fit(train_data, epochs=40, validation_data=test_data)"
   ]
  },
  {
   "cell_type": "code",
   "execution_count": 15,
   "metadata": {},
   "outputs": [
    {
     "data": {
      "image/png": "[encoded data removed]",
      "text/plain": [
       "<Figure size 432x288 with 1 Axes>"
      ]
     },
     "metadata": {
      "needs_background": "light"
     },
     "output_type": "display_data"
    },
    {
     "data": {
      "image/png": "[encoded data removed]",
      "text/plain": [
       "<Figure size 432x288 with 1 Axes>"
      ]
     },
     "metadata": {
      "needs_background": "light"
     },
     "output_type": "display_data"
    }
   ],
   "source": [
    "loss_curve = history.history[\"loss\"]\n",
    "loss_val = history.history[\"val_loss\"]\n",
    "acc_curve = history.history[\"sparse_categorical_accuracy\"]\n",
    "acc_val = history.history[\"val_sparse_categorical_accuracy\"]\n",
    "\n",
    "plt.plot(loss_val,label=\"Loss_val\")\n",
    "plt.plot(loss_curve,label=\"Loss_train\")\n",
    "plt.legend()\n",
    "plt.title(\"loss\")\n",
    "plt.show()\n",
    "\n",
    "plt.plot(acc_val, label=\"acc_val\" )\n",
    "plt.plot(acc_curve, label=\"acc_train\" )\n",
    "plt.legend()\n",
    "plt.title(\"sparse_categorical_accuracy\")\n",
    "plt.show()"
   ]
  },
  {
   "cell_type": "code",
   "execution_count": null,
   "metadata": {},
   "outputs": [],
   "source": []
  }
 ],
 "metadata": {
  "kernelspec": {
   "display_name": "Python 3",
   "language": "python",
   "name": "python3"
  },
  "language_info": {
   "codemirror_mode": {
    "name": "ipython",
    "version": 3
   },
   "file_extension": ".py",
   "mimetype": "text/x-python",
   "name": "python",
   "nbconvert_exporter": "python",
   "pygments_lexer": "ipython3",
   "version": "3.8.5"
  }
 },
 "nbformat": 4,
 "nbformat_minor": 4
}
