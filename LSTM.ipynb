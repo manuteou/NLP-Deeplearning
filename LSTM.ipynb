{
 "cells": [
  {
   "cell_type": "code",
   "execution_count": 1,
   "metadata": {},
   "outputs": [],
   "source": [
    "import tensorflow as tf\n",
    "import pandas as pd\n",
    "from sklearn.model_selection import train_test_split\n",
    "gpu = tf.config.experimental.list_physical_devices('GPU')\n",
    "tf.config.experimental.set_memory_growth(gpu[0], True)\n",
    "tf.config.experimental.set_memory_growth(gpu[1], True)\n",
    "import matplotlib.pyplot as plt"
   ]
  },
  {
   "cell_type": "code",
   "execution_count": 2,
   "metadata": {},
   "outputs": [
    {
     "data": {
      "text/html": [
       "<div>\n",
       "<style scoped>\n",
       "    .dataframe tbody tr th:only-of-type {\n",
       "        vertical-align: middle;\n",
       "    }\n",
       "\n",
       "    .dataframe tbody tr th {\n",
       "        vertical-align: top;\n",
       "    }\n",
       "\n",
       "    .dataframe thead th {\n",
       "        text-align: right;\n",
       "    }\n",
       "</style>\n",
       "<table border=\"1\" class=\"dataframe\">\n",
       "  <thead>\n",
       "    <tr style=\"text-align: right;\">\n",
       "      <th></th>\n",
       "      <th>text</th>\n",
       "      <th>target</th>\n",
       "      <th>text_clean</th>\n",
       "    </tr>\n",
       "  </thead>\n",
       "  <tbody>\n",
       "    <tr>\n",
       "      <th>0</th>\n",
       "      <td>Our Deeds are the Reason of this #earthquake M...</td>\n",
       "      <td>1</td>\n",
       "      <td>deed reason hastag earthquake allah forgive</td>\n",
       "    </tr>\n",
       "    <tr>\n",
       "      <th>1</th>\n",
       "      <td>Forest fire near La Ronge Sask. Canada</td>\n",
       "      <td>1</td>\n",
       "      <td>forest fire near la ronge sask canada</td>\n",
       "    </tr>\n",
       "    <tr>\n",
       "      <th>2</th>\n",
       "      <td>All residents asked to 'shelter in place' are ...</td>\n",
       "      <td>1</td>\n",
       "      <td>resident ask shelter place notify officer evac...</td>\n",
       "    </tr>\n",
       "    <tr>\n",
       "      <th>3</th>\n",
       "      <td>13,000 people receive #wildfires evacuation or...</td>\n",
       "      <td>1</td>\n",
       "      <td>13000 people receive hastag wildfire evacuatio...</td>\n",
       "    </tr>\n",
       "    <tr>\n",
       "      <th>4</th>\n",
       "      <td>Just got sent this photo from Ruby #Alaska as ...</td>\n",
       "      <td>1</td>\n",
       "      <td>send photo ruby hastag alaska smoke hastag wil...</td>\n",
       "    </tr>\n",
       "  </tbody>\n",
       "</table>\n",
       "</div>"
      ],
      "text/plain": [
       "                                                text  target  \\\n",
       "0  Our Deeds are the Reason of this #earthquake M...       1   \n",
       "1             Forest fire near La Ronge Sask. Canada       1   \n",
       "2  All residents asked to 'shelter in place' are ...       1   \n",
       "3  13,000 people receive #wildfires evacuation or...       1   \n",
       "4  Just got sent this photo from Ruby #Alaska as ...       1   \n",
       "\n",
       "                                          text_clean  \n",
       "0        deed reason hastag earthquake allah forgive  \n",
       "1              forest fire near la ronge sask canada  \n",
       "2  resident ask shelter place notify officer evac...  \n",
       "3  13000 people receive hastag wildfire evacuatio...  \n",
       "4  send photo ruby hastag alaska smoke hastag wil...  "
      ]
     },
     "execution_count": 2,
     "metadata": {},
     "output_type": "execute_result"
    }
   ],
   "source": [
    "df = pd.read_csv('df_train_clean_lemma.csv')\n",
    "df.head()"
   ]
  },
  {
   "cell_type": "code",
   "execution_count": 3,
   "metadata": {},
   "outputs": [],
   "source": [
    "tokenize = tf.keras.preprocessing.text.Tokenizer()"
   ]
  },
  {
   "cell_type": "code",
   "execution_count": 4,
   "metadata": {},
   "outputs": [],
   "source": [
    "df.text_clean = df.text_clean.astype(str)"
   ]
  },
  {
   "cell_type": "code",
   "execution_count": 5,
   "metadata": {},
   "outputs": [
    {
     "data": {
      "text/html": [
       "<div>\n",
       "<style scoped>\n",
       "    .dataframe tbody tr th:only-of-type {\n",
       "        vertical-align: middle;\n",
       "    }\n",
       "\n",
       "    .dataframe tbody tr th {\n",
       "        vertical-align: top;\n",
       "    }\n",
       "\n",
       "    .dataframe thead th {\n",
       "        text-align: right;\n",
       "    }\n",
       "</style>\n",
       "<table border=\"1\" class=\"dataframe\">\n",
       "  <thead>\n",
       "    <tr style=\"text-align: right;\">\n",
       "      <th></th>\n",
       "      <th>text</th>\n",
       "      <th>target</th>\n",
       "      <th>text_clean</th>\n",
       "      <th>text_tokenize</th>\n",
       "    </tr>\n",
       "  </thead>\n",
       "  <tbody>\n",
       "    <tr>\n",
       "      <th>0</th>\n",
       "      <td>Our Deeds are the Reason of this #earthquake M...</td>\n",
       "      <td>1</td>\n",
       "      <td>deed reason hastag earthquake allah forgive</td>\n",
       "      <td>[3675, 422, 1, 168, 1251, 1952]</td>\n",
       "    </tr>\n",
       "    <tr>\n",
       "      <th>1</th>\n",
       "      <td>Forest fire near La Ronge Sask. Canada</td>\n",
       "      <td>1</td>\n",
       "      <td>forest fire near la ronge sask canada</td>\n",
       "      <td>[114, 3, 157, 503, 5525, 5526, 950]</td>\n",
       "    </tr>\n",
       "    <tr>\n",
       "      <th>2</th>\n",
       "      <td>All residents asked to 'shelter in place' are ...</td>\n",
       "      <td>1</td>\n",
       "      <td>resident ask shelter place notify officer evac...</td>\n",
       "      <td>[1369, 443, 1706, 316, 5527, 286, 180, 1706, 3...</td>\n",
       "    </tr>\n",
       "    <tr>\n",
       "      <th>3</th>\n",
       "      <td>13,000 people receive #wildfires evacuation or...</td>\n",
       "      <td>1</td>\n",
       "      <td>13000 people receive hastag wildfire evacuatio...</td>\n",
       "      <td>[2307, 5, 2308, 1, 68, 180, 287, 33]</td>\n",
       "    </tr>\n",
       "    <tr>\n",
       "      <th>4</th>\n",
       "      <td>Just got sent this photo from Ruby #Alaska as ...</td>\n",
       "      <td>1</td>\n",
       "      <td>send photo ruby hastag alaska smoke hastag wil...</td>\n",
       "      <td>[174, 120, 5528, 1, 1707, 165, 1, 68, 2309, 105]</td>\n",
       "    </tr>\n",
       "  </tbody>\n",
       "</table>\n",
       "</div>"
      ],
      "text/plain": [
       "                                                text  target  \\\n",
       "0  Our Deeds are the Reason of this #earthquake M...       1   \n",
       "1             Forest fire near La Ronge Sask. Canada       1   \n",
       "2  All residents asked to 'shelter in place' are ...       1   \n",
       "3  13,000 people receive #wildfires evacuation or...       1   \n",
       "4  Just got sent this photo from Ruby #Alaska as ...       1   \n",
       "\n",
       "                                          text_clean  \\\n",
       "0        deed reason hastag earthquake allah forgive   \n",
       "1              forest fire near la ronge sask canada   \n",
       "2  resident ask shelter place notify officer evac...   \n",
       "3  13000 people receive hastag wildfire evacuatio...   \n",
       "4  send photo ruby hastag alaska smoke hastag wil...   \n",
       "\n",
       "                                       text_tokenize  \n",
       "0                    [3675, 422, 1, 168, 1251, 1952]  \n",
       "1                [114, 3, 157, 503, 5525, 5526, 950]  \n",
       "2  [1369, 443, 1706, 316, 5527, 286, 180, 1706, 3...  \n",
       "3               [2307, 5, 2308, 1, 68, 180, 287, 33]  \n",
       "4   [174, 120, 5528, 1, 1707, 165, 1, 68, 2309, 105]  "
      ]
     },
     "execution_count": 5,
     "metadata": {},
     "output_type": "execute_result"
    }
   ],
   "source": [
    "tokenize.fit_on_texts(df.text_clean)\n",
    "df['text_tokenize'] = tokenize.texts_to_sequences(df.text_clean)\n",
    "df.head()"
   ]
  },
  {
   "cell_type": "code",
   "execution_count": 6,
   "metadata": {},
   "outputs": [],
   "source": [
    "padded = tf.keras.preprocessing.sequence.pad_sequences(df.text_tokenize, padding=\"post\")"
   ]
  },
  {
   "cell_type": "code",
   "execution_count": 7,
   "metadata": {},
   "outputs": [],
   "source": [
    "#tensor_df = tf.data.Dataset.from_tensor_slices((padded, df.target.values))"
   ]
  },
  {
   "cell_type": "code",
   "execution_count": 8,
   "metadata": {},
   "outputs": [],
   "source": [
    "y = df['target']\n",
    "X_train_t, X_test_t, y_train_t, y_test_t = train_test_split(padded, y, test_size=0.30, random_state=42, stratify = y)\n",
    "\n",
    "train_data = tf.data.Dataset.from_tensor_slices((X_train_t, y_train_t))\n",
    "test_data = tf.data.Dataset.from_tensor_slices((X_test_t, y_test_t))\n",
    "\n",
    "train_data = train_data.shuffle(len(train_data)).batch(16)\n",
    "test_data = test_data.shuffle(len(test_data)).batch(16)"
   ]
  },
  {
   "cell_type": "code",
   "execution_count": 9,
   "metadata": {},
   "outputs": [],
   "source": [
    "#TAKE_SIZE = int(0.7*df.shape[0])\n",
    "#BATCH_SIZE = 16\n",
    "\n",
    "#train_data = tensor_df.take(TAKE_SIZE).shuffle(TAKE_SIZE)\n",
    "#train_data = train_data.batch(BATCH_SIZE)\n",
    "\n",
    "#test_data = tensor_df.skip(TAKE_SIZE).shuffle(df.shape[0]-TAKE_SIZE)\n",
    "#test_data = test_data.batch(BATCH_SIZE)"
   ]
  },
  {
   "cell_type": "code",
   "execution_count": 10,
   "metadata": {},
   "outputs": [
    {
     "name": "stdout",
     "output_type": "stream",
     "text": [
      "tf.Tensor(\n",
      "[[ 3103   609    14   188   105    19     8    30     0     0     0     0\n",
      "      0     0     0     0     0     0     0     0     0     0     0     0\n",
      "      0     0     0     0]\n",
      " [14576    51  1989  1535  1856   966    73     1 14577     0     0     0\n",
      "      0     0     0     0     0     0     0     0     0     0     0     0\n",
      "      0     0     0     0]\n",
      " [ 9352  9353  9354    83  1904  1482    56  9355     0     0     0     0\n",
      "      0     0     0     0     0     0     0     0     0     0     0     0\n",
      "      0     0     0     0]\n",
      " [  151    20   162   553   676   231    30     3     0     0     0     0\n",
      "      0     0     0     0     0     0     0     0     0     0     0     0\n",
      "      0     0     0     0]\n",
      " [    1   440  1290 10559  4490     1   818  2365   117    81 10560  1060\n",
      "      1 10561     6     0     0     0     0     0     0     0     0     0\n",
      "      0     0     0     0]\n",
      " [  249   526   138    99   192   108   301    27     0     0     0     0\n",
      "      0     0     0     0     0     0     0     0     0     0     0     0\n",
      "      0     0     0     0]\n",
      " [   81   127  8357  8358   112  8359  8360   630     0     0     0     0\n",
      "      0     0     0     0     0     0     0     0     0     0     0     0\n",
      "      0     0     0     0]\n",
      " [ 1117    38  1238  2604   486   305   197  3576   382     0     0     0\n",
      "      0     0     0     0     0     0     0     0     0     0     0     0\n",
      "      0     0     0     0]\n",
      " [  219 14747     1  3657     0     0     0     0     0     0     0     0\n",
      "      0     0     0     0     0     0     0     0     0     0     0     0\n",
      "      0     0     0     0]\n",
      " [10502   151   151    88   241     0     0     0     0     0     0     0\n",
      "      0     0     0     0     0     0     0     0     0     0     0     0\n",
      "      0     0     0     0]\n",
      " [ 1363   418  1728   199   676  1006   120 11758 11759     1 11760     0\n",
      "      0     0     0     0     0     0     0     0     0     0     0     0\n",
      "      0     0     0     0]\n",
      " [ 2243   689   637   216   663  2244  1483    79   275  1099     3   623\n",
      "      0     0     0     0     0     0     0     0     0     0     0     0\n",
      "      0     0     0     0]\n",
      " [   58   754  2820  1769  1357     0     0     0     0     0     0     0\n",
      "      0     0     0     0     0     0     0     0     0     0     0     0\n",
      "      0     0     0     0]\n",
      " [  519    29  1246  1684  1685  1686   881   224    41   231   449  1408\n",
      "    944  1500   777   479     0     0     0     0     0     0     0     0\n",
      "      0     0     0     0]\n",
      " [   10    40    90  3199   118    20     1  7891     0     0     0     0\n",
      "      0     0     0     0     0     0     0     0     0     0     0     0\n",
      "      0     0     0     0]\n",
      " [ 7340  4168     8   461  7341     0     0     0     0     0     0     0\n",
      "      0     0     0     0     0     0     0     0     0     0     0     0\n",
      "      0     0     0     0]], shape=(16, 28), dtype=int32)\n",
      "tf.Tensor([0 0 0 1 0 1 1 0 0 1 1 1 1 0 1 0], shape=(16,), dtype=int64)\n"
     ]
    }
   ],
   "source": [
    "for train, target in train_data.take(1):\n",
    "    print(train)\n",
    "    print(target)"
   ]
  },
  {
   "cell_type": "code",
   "execution_count": 11,
   "metadata": {},
   "outputs": [
    {
     "data": {
      "text/plain": [
       "15998"
      ]
     },
     "execution_count": 11,
     "metadata": {},
     "output_type": "execute_result"
    }
   ],
   "source": [
    "vocab_size=len(tokenize.word_index)\n",
    "vocab_size"
   ]
  },
  {
   "cell_type": "code",
   "execution_count": 19,
   "metadata": {},
   "outputs": [],
   "source": [
    "model = tf.keras.Sequential([\n",
    "        tf.keras.layers.Embedding(vocab_size+1, 128, input_shape=[train.shape[1]]),\n",
    "        tf.keras.layers.Bidirectional(tf.keras.layers.LSTM(16, return_sequences=True)),\n",
    "        tf.keras.layers.LSTM(32, return_sequences=False),\n",
    "        #tf.keras.layers.BatchNormalization(),\n",
    "        tf.keras.layers.Dense(16, activation='relu',kernel_regularizer=tf.keras.regularizers.l1(0.3) ),\n",
    "        tf.keras.layers.Dropout(0.5),\n",
    "        tf.keras.layers.Dense(1, activation=\"sigmoid\")\n",
    "])"
   ]
  },
  {
   "cell_type": "code",
   "execution_count": 20,
   "metadata": {},
   "outputs": [
    {
     "name": "stdout",
     "output_type": "stream",
     "text": [
      "Model: \"sequential_1\"\n",
      "_________________________________________________________________\n",
      "Layer (type)                 Output Shape              Param #   \n",
      "=================================================================\n",
      "embedding_1 (Embedding)      (None, 28, 128)           2047872   \n",
      "_________________________________________________________________\n",
      "bidirectional_1 (Bidirection (None, 28, 32)            18560     \n",
      "_________________________________________________________________\n",
      "lstm_3 (LSTM)                (None, 32)                8320      \n",
      "_________________________________________________________________\n",
      "dense_2 (Dense)              (None, 16)                528       \n",
      "_________________________________________________________________\n",
      "dropout_2 (Dropout)          (None, 16)                0         \n",
      "_________________________________________________________________\n",
      "dense_3 (Dense)              (None, 1)                 17        \n",
      "=================================================================\n",
      "Total params: 2,075,297\n",
      "Trainable params: 2,075,297\n",
      "Non-trainable params: 0\n",
      "_________________________________________________________________\n"
     ]
    }
   ],
   "source": [
    "model.summary()"
   ]
  },
  {
   "cell_type": "code",
   "execution_count": 21,
   "metadata": {},
   "outputs": [],
   "source": [
    "initial_learning_rate = 0.00005\n",
    "\n",
    "lr_schedule = tf.keras.optimizers.schedules.ExponentialDecay(\n",
    "    initial_learning_rate,\n",
    "    decay_steps=250,\n",
    "    decay_rate=0.96,\n",
    "    staircase=True)\n",
    "\n",
    "optimizer= tf.keras.optimizers.Adam(\n",
    "    learning_rate = lr_schedule\n",
    ")"
   ]
  },
  {
   "cell_type": "code",
   "execution_count": 22,
   "metadata": {},
   "outputs": [],
   "source": [
    "model.compile(optimizer=optimizer,\n",
    "              loss=tf.keras.losses.BinaryCrossentropy(),\n",
    "              metrics=tf.keras.metrics.BinaryAccuracy())"
   ]
  },
  {
   "cell_type": "code",
   "execution_count": 23,
   "metadata": {},
   "outputs": [],
   "source": [
    "class_weight = {\n",
    "    0:1,\n",
    "    1:1.33,\n",
    "}"
   ]
  },
  {
   "cell_type": "code",
   "execution_count": 24,
   "metadata": {},
   "outputs": [
    {
     "name": "stdout",
     "output_type": "stream",
     "text": [
      "Epoch 1/20\n",
      "334/334 [==============================] - 12s 25ms/step - loss: 27.3290 - binary_accuracy: 0.5367 - val_loss: 25.3879 - val_binary_accuracy: 0.5705\n",
      "Epoch 2/20\n",
      "334/334 [==============================] - 7s 21ms/step - loss: 24.9125 - binary_accuracy: 0.5500 - val_loss: 23.1371 - val_binary_accuracy: 0.5701\n",
      "Epoch 3/20\n",
      "334/334 [==============================] - 7s 21ms/step - loss: 22.7088 - binary_accuracy: 0.5696 - val_loss: 21.0877 - val_binary_accuracy: 0.5744\n",
      "Epoch 4/20\n",
      "334/334 [==============================] - 7s 22ms/step - loss: 20.7160 - binary_accuracy: 0.5912 - val_loss: 19.1813 - val_binary_accuracy: 0.6388\n",
      "Epoch 5/20\n",
      "334/334 [==============================] - 7s 21ms/step - loss: 18.8121 - binary_accuracy: 0.7337 - val_loss: 17.4376 - val_binary_accuracy: 0.7968\n",
      "Epoch 6/20\n",
      "334/334 [==============================] - 7s 22ms/step - loss: 17.0717 - binary_accuracy: 0.8720 - val_loss: 15.9108 - val_binary_accuracy: 0.7815\n",
      "Epoch 7/20\n",
      "334/334 [==============================] - 7s 21ms/step - loss: 15.5266 - binary_accuracy: 0.9064 - val_loss: 14.5508 - val_binary_accuracy: 0.7452\n",
      "Epoch 8/20\n",
      "334/334 [==============================] - 7s 21ms/step - loss: 14.1324 - binary_accuracy: 0.9297 - val_loss: 13.2935 - val_binary_accuracy: 0.7596\n",
      "Epoch 9/20\n",
      "334/334 [==============================] - 7s 21ms/step - loss: 12.9016 - binary_accuracy: 0.9299 - val_loss: 12.1574 - val_binary_accuracy: 0.7644\n",
      "Epoch 10/20\n",
      "334/334 [==============================] - 7s 21ms/step - loss: 11.7696 - binary_accuracy: 0.9421 - val_loss: 11.1405 - val_binary_accuracy: 0.7601 0s - loss: 11.\n",
      "Epoch 11/20\n",
      "334/334 [==============================] - 7s 21ms/step - loss: 10.7652 - binary_accuracy: 0.9500 - val_loss: 10.2227 - val_binary_accuracy: 0.7592\n",
      "Epoch 12/20\n",
      "334/334 [==============================] - 7s 21ms/step - loss: 9.8688 - binary_accuracy: 0.9472 - val_loss: 9.3710 - val_binary_accuracy: 0.7680\n",
      "Epoch 13/20\n",
      "334/334 [==============================] - 7s 21ms/step - loss: 9.0439 - binary_accuracy: 0.9449 - val_loss: 8.6149 - val_binary_accuracy: 0.7662\n",
      "Epoch 14/20\n",
      "334/334 [==============================] - 7s 22ms/step - loss: 8.2896 - binary_accuracy: 0.9581 - val_loss: 7.9290 - val_binary_accuracy: 0.7592\n",
      "Epoch 15/20\n",
      "334/334 [==============================] - 7s 21ms/step - loss: 7.6339 - binary_accuracy: 0.9480 - val_loss: 7.3004 - val_binary_accuracy: 0.7531\n",
      "Epoch 16/20\n",
      "334/334 [==============================] - 7s 21ms/step - loss: 7.0024 - binary_accuracy: 0.9599 - val_loss: 6.7310 - val_binary_accuracy: 0.7535\n",
      "Epoch 17/20\n",
      "334/334 [==============================] - 7s 21ms/step - loss: 6.4418 - binary_accuracy: 0.9632 - val_loss: 6.2361 - val_binary_accuracy: 0.7417\n",
      "Epoch 18/20\n",
      "334/334 [==============================] - 7s 21ms/step - loss: 5.9593 - binary_accuracy: 0.9555 - val_loss: 5.7672 - val_binary_accuracy: 0.7614\n",
      "Epoch 19/20\n",
      "334/334 [==============================] - 7s 21ms/step - loss: 5.5044 - binary_accuracy: 0.9650 - val_loss: 5.3640 - val_binary_accuracy: 0.7531\n",
      "Epoch 20/20\n",
      "334/334 [==============================] - 7s 22ms/step - loss: 5.1146 - binary_accuracy: 0.9644 - val_loss: 4.9740 - val_binary_accuracy: 0.7662- loss: 5.1350 -\n"
     ]
    }
   ],
   "source": [
    "history = model.fit(train_data, epochs=20, validation_data=test_data,class_weight=class_weight)"
   ]
  },
  {
   "cell_type": "code",
   "execution_count": 35,
   "metadata": {},
   "outputs": [
    {
     "data": {
      "image/png": "[encoded data removed]",
      "text/plain": [
       "<Figure size 432x288 with 1 Axes>"
      ]
     },
     "metadata": {
      "needs_background": "light"
     },
     "output_type": "display_data"
    },
    {
     "data": {
      "image/png": "[encoded data removed]",
      "text/plain": [
       "<Figure size 432x288 with 1 Axes>"
      ]
     },
     "metadata": {
      "needs_background": "light"
     },
     "output_type": "display_data"
    }
   ],
   "source": [
    "loss_curve = history.history[\"loss\"]\n",
    "loss_val = history.history[\"val_loss\"]\n",
    "acc_curve = history.history[\"binary_accuracy\"]\n",
    "acc_val = history.history[\"val_binary_accuracy\"]\n",
    "\n",
    "plt.plot(loss_val,label=\"Loss_val\")\n",
    "plt.plot(loss_curve,label=\"Loss_train\")\n",
    "plt.legend()\n",
    "plt.title(\"loss\")\n",
    "plt.show()\n",
    "\n",
    "plt.plot(acc_val, label=\"acc_val\" )\n",
    "plt.plot(acc_curve, label=\"acc_train\" )\n",
    "plt.legend()\n",
    "plt.title(\"binary_accuracy\")\n",
    "plt.show()"
   ]
  },
  {
   "cell_type": "code",
   "execution_count": null,
   "metadata": {},
   "outputs": [],
   "source": []
  },
  {
   "cell_type": "code",
   "execution_count": 32,
   "metadata": {},
   "outputs": [
    {
     "data": {
      "text/plain": [
       "[3, 2, 1]"
      ]
     },
     "execution_count": 32,
     "metadata": {},
     "output_type": "execute_result"
    }
   ],
   "source": []
  },
  {
   "cell_type": "code",
   "execution_count": null,
   "metadata": {},
   "outputs": [],
   "source": []
  },
  {
   "cell_type": "code",
   "execution_count": null,
   "metadata": {},
   "outputs": [],
   "source": []
  },
  {
   "cell_type": "code",
   "execution_count": null,
   "metadata": {},
   "outputs": [],
   "source": []
  }
 ],
 "metadata": {
  "kernelspec": {
   "display_name": "Python 3",
   "language": "python",
   "name": "python3"
  },
  "language_info": {
   "codemirror_mode": {
    "name": "ipython",
    "version": 3
   },
   "file_extension": ".py",
   "mimetype": "text/x-python",
   "name": "python",
   "nbconvert_exporter": "python",
   "pygments_lexer": "ipython3",
   "version": "3.8.5"
  }
 },
 "nbformat": 4,
 "nbformat_minor": 4
}
